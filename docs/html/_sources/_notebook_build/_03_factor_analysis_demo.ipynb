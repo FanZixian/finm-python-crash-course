{
 "cells": [
  {
   "cell_type": "markdown",
   "metadata": {},
   "source": [
    "# Factor Analysis and Principal Component Analysis on Financial and Economic Time Series"
   ]
  },
  {
   "cell_type": "code",
   "execution_count": 1,
   "metadata": {},
   "outputs": [],
   "source": [
    "# If you're running this on Colab, make sure to install the following packages using pip.\n",
    "# On you're own computer, I recommend using conda or mamba.\n",
    "\n",
    "# !pip install pandas-datareader\n",
    "# !pip install yfinance\n",
    "\n",
    "# !conda install pandas-datareader\n",
    "# !conda install yfinance"
   ]
  },
  {
   "cell_type": "code",
   "execution_count": 2,
   "metadata": {},
   "outputs": [],
   "source": [
    "import numpy as np\n",
    "import pandas as pd\n",
    "from matplotlib import pyplot as plt\n",
    "\n",
    "import yfinance as yf\n",
    "import pandas_datareader as pdr\n",
    "import sklearn.decomposition\n",
    "import statsmodels.multivariate.pca"
   ]
  },
  {
   "cell_type": "markdown",
   "metadata": {},
   "source": [
    "## Downloading macroeconomic and financial data from FRED"
   ]
  },
  {
   "cell_type": "code",
   "execution_count": 3,
   "metadata": {},
   "outputs": [],
   "source": [
    "fred_series_long_names = {\n",
    "    'BAMLH0A0HYM2': 'ICE BofA US High Yield Index Option-Adjusted Spread',\n",
    "    'NASDAQCOM': 'NASDAQ Composite Index',\n",
    "    'RIFSPPFAAD90NB': '90-Day AA Financial Commercial Paper Interest Rate',\n",
    "    'TB3MS': '3-Month Treasury Bill Secondary Market Rate',\n",
    "    'DGS10': 'Market Yield on U.S. Treasury Securities at 10-Year Constant Maturity',\n",
    "    'VIXCLS': 'CBOE Volatility Index: VIX',\n",
    "}"
   ]
  },
  {
   "cell_type": "code",
   "execution_count": 4,
   "metadata": {},
   "outputs": [],
   "source": [
    "fred_series_short_names = {\n",
    "    'BAMLH0A0HYM2': 'High Yield Index OAS',\n",
    "    'NASDAQCOM': 'NASDAQ',\n",
    "    'RIFSPPFAAD90NB': '90-Day AA Fin CP',\n",
    "    'TB3MS': '3-Month T-Bill',\n",
    "    'DGS10': '10-Year Treasury',\n",
    "    'VIXCLS': 'VIX',\n",
    "}"
   ]
  },
  {
   "cell_type": "code",
   "execution_count": 5,
   "metadata": {},
   "outputs": [],
   "source": [
    "start_date = pd.to_datetime('1980-01-01') \n",
    "end_date = pd.to_datetime('today') "
   ]
  },
  {
   "cell_type": "code",
   "execution_count": 6,
   "metadata": {},
   "outputs": [],
   "source": [
    "df = pdr.get_data_fred(fred_series_short_names.keys(), start=start_date, end=end_date)"
   ]
  },
  {
   "cell_type": "markdown",
   "metadata": {},
   "source": [
    "First, an aside about reading and writing data to disk."
   ]
  },
  {
   "cell_type": "code",
   "execution_count": 7,
   "metadata": {},
   "outputs": [],
   "source": [
    "df.to_csv('fred_panel.csv')"
   ]
  },
  {
   "cell_type": "code",
   "execution_count": 8,
   "metadata": {},
   "outputs": [],
   "source": [
    "dff = pd.read_csv('fred_panel.csv')"
   ]
  },
  {
   "cell_type": "code",
   "execution_count": 9,
   "metadata": {},
   "outputs": [
    {
     "name": "stdout",
     "output_type": "stream",
     "text": [
      "<class 'pandas.core.frame.DataFrame'>\n",
      "RangeIndex: 11872 entries, 0 to 11871\n",
      "Data columns (total 7 columns):\n",
      " #   Column          Non-Null Count  Dtype  \n",
      "---  ------          --------------  -----  \n",
      " 0   DATE            11872 non-null  object \n",
      " 1   BAMLH0A0HYM2    7197 non-null   float64\n",
      " 2   NASDAQCOM       11236 non-null  float64\n",
      " 3   RIFSPPFAAD90NB  6465 non-null   float64\n",
      " 4   TB3MS           534 non-null    float64\n",
      " 5   DGS10           11143 non-null  float64\n",
      " 6   VIXCLS          8722 non-null   float64\n",
      "dtypes: float64(6), object(1)\n",
      "memory usage: 649.4+ KB\n"
     ]
    }
   ],
   "source": [
    "dff.info()"
   ]
  },
  {
   "cell_type": "code",
   "execution_count": 10,
   "metadata": {},
   "outputs": [],
   "source": [
    "dff = pd.read_csv('fred_panel.csv', parse_dates=['DATE'])"
   ]
  },
  {
   "cell_type": "code",
   "execution_count": 11,
   "metadata": {},
   "outputs": [
    {
     "name": "stdout",
     "output_type": "stream",
     "text": [
      "<class 'pandas.core.frame.DataFrame'>\n",
      "RangeIndex: 11872 entries, 0 to 11871\n",
      "Data columns (total 7 columns):\n",
      " #   Column          Non-Null Count  Dtype         \n",
      "---  ------          --------------  -----         \n",
      " 0   DATE            11872 non-null  datetime64[ns]\n",
      " 1   BAMLH0A0HYM2    7197 non-null   float64       \n",
      " 2   NASDAQCOM       11236 non-null  float64       \n",
      " 3   RIFSPPFAAD90NB  6465 non-null   float64       \n",
      " 4   TB3MS           534 non-null    float64       \n",
      " 5   DGS10           11143 non-null  float64       \n",
      " 6   VIXCLS          8722 non-null   float64       \n",
      "dtypes: datetime64[ns](1), float64(6)\n",
      "memory usage: 649.4 KB\n"
     ]
    }
   ],
   "source": [
    "dff.info()"
   ]
  },
  {
   "cell_type": "code",
   "execution_count": 12,
   "metadata": {},
   "outputs": [],
   "source": [
    "dff = dff.set_index('DATE')"
   ]
  },
  {
   "cell_type": "code",
   "execution_count": 13,
   "metadata": {},
   "outputs": [],
   "source": [
    "df.to_parquet('fred_panel.parquet')"
   ]
  },
  {
   "cell_type": "code",
   "execution_count": 14,
   "metadata": {},
   "outputs": [],
   "source": [
    "df = pd.read_parquet('fred_panel.parquet')"
   ]
  },
  {
   "cell_type": "code",
   "execution_count": 15,
   "metadata": {},
   "outputs": [
    {
     "name": "stdout",
     "output_type": "stream",
     "text": [
      "<class 'pandas.core.frame.DataFrame'>\n",
      "DatetimeIndex: 11872 entries, 1980-01-01 to 2024-07-25\n",
      "Data columns (total 6 columns):\n",
      " #   Column          Non-Null Count  Dtype  \n",
      "---  ------          --------------  -----  \n",
      " 0   BAMLH0A0HYM2    7197 non-null   float64\n",
      " 1   NASDAQCOM       11236 non-null  float64\n",
      " 2   RIFSPPFAAD90NB  6465 non-null   float64\n",
      " 3   TB3MS           534 non-null    float64\n",
      " 4   DGS10           11143 non-null  float64\n",
      " 5   VIXCLS          8722 non-null   float64\n",
      "dtypes: float64(6)\n",
      "memory usage: 649.2 KB\n"
     ]
    }
   ],
   "source": [
    "df.info()"
   ]
  },
  {
   "cell_type": "code",
   "execution_count": 16,
   "metadata": {},
   "outputs": [
    {
     "data": {
      "text/html": [
       "<div>\n",
       "<style scoped>\n",
       "    .dataframe tbody tr th:only-of-type {\n",
       "        vertical-align: middle;\n",
       "    }\n",
       "\n",
       "    .dataframe tbody tr th {\n",
       "        vertical-align: top;\n",
       "    }\n",
       "\n",
       "    .dataframe thead th {\n",
       "        text-align: right;\n",
       "    }\n",
       "</style>\n",
       "<table border=\"1\" class=\"dataframe\">\n",
       "  <thead>\n",
       "    <tr style=\"text-align: right;\">\n",
       "      <th></th>\n",
       "      <th>BAMLH0A0HYM2</th>\n",
       "      <th>NASDAQCOM</th>\n",
       "      <th>RIFSPPFAAD90NB</th>\n",
       "      <th>TB3MS</th>\n",
       "      <th>DGS10</th>\n",
       "      <th>VIXCLS</th>\n",
       "    </tr>\n",
       "    <tr>\n",
       "      <th>DATE</th>\n",
       "      <th></th>\n",
       "      <th></th>\n",
       "      <th></th>\n",
       "      <th></th>\n",
       "      <th></th>\n",
       "      <th></th>\n",
       "    </tr>\n",
       "  </thead>\n",
       "  <tbody>\n",
       "    <tr>\n",
       "      <th>1980-01-01</th>\n",
       "      <td>NaN</td>\n",
       "      <td>NaN</td>\n",
       "      <td>NaN</td>\n",
       "      <td>12.0</td>\n",
       "      <td>NaN</td>\n",
       "      <td>NaN</td>\n",
       "    </tr>\n",
       "    <tr>\n",
       "      <th>1980-01-02</th>\n",
       "      <td>NaN</td>\n",
       "      <td>148.17</td>\n",
       "      <td>NaN</td>\n",
       "      <td>NaN</td>\n",
       "      <td>10.50</td>\n",
       "      <td>NaN</td>\n",
       "    </tr>\n",
       "    <tr>\n",
       "      <th>1980-01-03</th>\n",
       "      <td>NaN</td>\n",
       "      <td>145.97</td>\n",
       "      <td>NaN</td>\n",
       "      <td>NaN</td>\n",
       "      <td>10.60</td>\n",
       "      <td>NaN</td>\n",
       "    </tr>\n",
       "    <tr>\n",
       "      <th>1980-01-04</th>\n",
       "      <td>NaN</td>\n",
       "      <td>148.02</td>\n",
       "      <td>NaN</td>\n",
       "      <td>NaN</td>\n",
       "      <td>10.66</td>\n",
       "      <td>NaN</td>\n",
       "    </tr>\n",
       "    <tr>\n",
       "      <th>1980-01-07</th>\n",
       "      <td>NaN</td>\n",
       "      <td>148.62</td>\n",
       "      <td>NaN</td>\n",
       "      <td>NaN</td>\n",
       "      <td>10.63</td>\n",
       "      <td>NaN</td>\n",
       "    </tr>\n",
       "    <tr>\n",
       "      <th>...</th>\n",
       "      <td>...</td>\n",
       "      <td>...</td>\n",
       "      <td>...</td>\n",
       "      <td>...</td>\n",
       "      <td>...</td>\n",
       "      <td>...</td>\n",
       "    </tr>\n",
       "    <tr>\n",
       "      <th>2024-07-19</th>\n",
       "      <td>3.09</td>\n",
       "      <td>17726.94</td>\n",
       "      <td>NaN</td>\n",
       "      <td>NaN</td>\n",
       "      <td>4.25</td>\n",
       "      <td>16.52</td>\n",
       "    </tr>\n",
       "    <tr>\n",
       "      <th>2024-07-22</th>\n",
       "      <td>3.05</td>\n",
       "      <td>18007.57</td>\n",
       "      <td>5.29</td>\n",
       "      <td>NaN</td>\n",
       "      <td>4.26</td>\n",
       "      <td>14.91</td>\n",
       "    </tr>\n",
       "    <tr>\n",
       "      <th>2024-07-23</th>\n",
       "      <td>3.02</td>\n",
       "      <td>17997.35</td>\n",
       "      <td>NaN</td>\n",
       "      <td>NaN</td>\n",
       "      <td>4.25</td>\n",
       "      <td>14.72</td>\n",
       "    </tr>\n",
       "    <tr>\n",
       "      <th>2024-07-24</th>\n",
       "      <td>3.10</td>\n",
       "      <td>17342.41</td>\n",
       "      <td>NaN</td>\n",
       "      <td>NaN</td>\n",
       "      <td>4.28</td>\n",
       "      <td>18.04</td>\n",
       "    </tr>\n",
       "    <tr>\n",
       "      <th>2024-07-25</th>\n",
       "      <td>3.08</td>\n",
       "      <td>17181.72</td>\n",
       "      <td>5.32</td>\n",
       "      <td>NaN</td>\n",
       "      <td>4.27</td>\n",
       "      <td>18.46</td>\n",
       "    </tr>\n",
       "  </tbody>\n",
       "</table>\n",
       "<p>11872 rows × 6 columns</p>\n",
       "</div>"
      ],
      "text/plain": [
       "            BAMLH0A0HYM2  NASDAQCOM  RIFSPPFAAD90NB  TB3MS  DGS10  VIXCLS\n",
       "DATE                                                                     \n",
       "1980-01-01           NaN        NaN             NaN   12.0    NaN     NaN\n",
       "1980-01-02           NaN     148.17             NaN    NaN  10.50     NaN\n",
       "1980-01-03           NaN     145.97             NaN    NaN  10.60     NaN\n",
       "1980-01-04           NaN     148.02             NaN    NaN  10.66     NaN\n",
       "1980-01-07           NaN     148.62             NaN    NaN  10.63     NaN\n",
       "...                  ...        ...             ...    ...    ...     ...\n",
       "2024-07-19          3.09   17726.94             NaN    NaN   4.25   16.52\n",
       "2024-07-22          3.05   18007.57            5.29    NaN   4.26   14.91\n",
       "2024-07-23          3.02   17997.35             NaN    NaN   4.25   14.72\n",
       "2024-07-24          3.10   17342.41             NaN    NaN   4.28   18.04\n",
       "2024-07-25          3.08   17181.72            5.32    NaN   4.27   18.46\n",
       "\n",
       "[11872 rows x 6 columns]"
      ]
     },
     "execution_count": 16,
     "metadata": {},
     "output_type": "execute_result"
    }
   ],
   "source": [
    "df"
   ]
  },
  {
   "cell_type": "markdown",
   "metadata": {},
   "source": [
    "## Cleaning Data\n"
   ]
  },
  {
   "cell_type": "code",
   "execution_count": 17,
   "metadata": {},
   "outputs": [
    {
     "data": {
      "text/html": [
       "<div>\n",
       "<style scoped>\n",
       "    .dataframe tbody tr th:only-of-type {\n",
       "        vertical-align: middle;\n",
       "    }\n",
       "\n",
       "    .dataframe tbody tr th {\n",
       "        vertical-align: top;\n",
       "    }\n",
       "\n",
       "    .dataframe thead th {\n",
       "        text-align: right;\n",
       "    }\n",
       "</style>\n",
       "<table border=\"1\" class=\"dataframe\">\n",
       "  <thead>\n",
       "    <tr style=\"text-align: right;\">\n",
       "      <th></th>\n",
       "      <th>High Yield Index OAS</th>\n",
       "      <th>NASDAQ</th>\n",
       "      <th>90-Day AA Fin CP</th>\n",
       "      <th>3-Month T-Bill</th>\n",
       "      <th>10-Year Treasury</th>\n",
       "      <th>VIX</th>\n",
       "    </tr>\n",
       "    <tr>\n",
       "      <th>DATE</th>\n",
       "      <th></th>\n",
       "      <th></th>\n",
       "      <th></th>\n",
       "      <th></th>\n",
       "      <th></th>\n",
       "      <th></th>\n",
       "    </tr>\n",
       "  </thead>\n",
       "  <tbody>\n",
       "    <tr>\n",
       "      <th>1980-01-01</th>\n",
       "      <td>NaN</td>\n",
       "      <td>NaN</td>\n",
       "      <td>NaN</td>\n",
       "      <td>12.0</td>\n",
       "      <td>NaN</td>\n",
       "      <td>NaN</td>\n",
       "    </tr>\n",
       "    <tr>\n",
       "      <th>1980-01-02</th>\n",
       "      <td>NaN</td>\n",
       "      <td>148.17</td>\n",
       "      <td>NaN</td>\n",
       "      <td>NaN</td>\n",
       "      <td>10.50</td>\n",
       "      <td>NaN</td>\n",
       "    </tr>\n",
       "    <tr>\n",
       "      <th>1980-01-03</th>\n",
       "      <td>NaN</td>\n",
       "      <td>145.97</td>\n",
       "      <td>NaN</td>\n",
       "      <td>NaN</td>\n",
       "      <td>10.60</td>\n",
       "      <td>NaN</td>\n",
       "    </tr>\n",
       "    <tr>\n",
       "      <th>1980-01-04</th>\n",
       "      <td>NaN</td>\n",
       "      <td>148.02</td>\n",
       "      <td>NaN</td>\n",
       "      <td>NaN</td>\n",
       "      <td>10.66</td>\n",
       "      <td>NaN</td>\n",
       "    </tr>\n",
       "    <tr>\n",
       "      <th>1980-01-07</th>\n",
       "      <td>NaN</td>\n",
       "      <td>148.62</td>\n",
       "      <td>NaN</td>\n",
       "      <td>NaN</td>\n",
       "      <td>10.63</td>\n",
       "      <td>NaN</td>\n",
       "    </tr>\n",
       "    <tr>\n",
       "      <th>...</th>\n",
       "      <td>...</td>\n",
       "      <td>...</td>\n",
       "      <td>...</td>\n",
       "      <td>...</td>\n",
       "      <td>...</td>\n",
       "      <td>...</td>\n",
       "    </tr>\n",
       "    <tr>\n",
       "      <th>2024-07-19</th>\n",
       "      <td>3.09</td>\n",
       "      <td>17726.94</td>\n",
       "      <td>NaN</td>\n",
       "      <td>NaN</td>\n",
       "      <td>4.25</td>\n",
       "      <td>16.52</td>\n",
       "    </tr>\n",
       "    <tr>\n",
       "      <th>2024-07-22</th>\n",
       "      <td>3.05</td>\n",
       "      <td>18007.57</td>\n",
       "      <td>5.29</td>\n",
       "      <td>NaN</td>\n",
       "      <td>4.26</td>\n",
       "      <td>14.91</td>\n",
       "    </tr>\n",
       "    <tr>\n",
       "      <th>2024-07-23</th>\n",
       "      <td>3.02</td>\n",
       "      <td>17997.35</td>\n",
       "      <td>NaN</td>\n",
       "      <td>NaN</td>\n",
       "      <td>4.25</td>\n",
       "      <td>14.72</td>\n",
       "    </tr>\n",
       "    <tr>\n",
       "      <th>2024-07-24</th>\n",
       "      <td>3.10</td>\n",
       "      <td>17342.41</td>\n",
       "      <td>NaN</td>\n",
       "      <td>NaN</td>\n",
       "      <td>4.28</td>\n",
       "      <td>18.04</td>\n",
       "    </tr>\n",
       "    <tr>\n",
       "      <th>2024-07-25</th>\n",
       "      <td>3.08</td>\n",
       "      <td>17181.72</td>\n",
       "      <td>5.32</td>\n",
       "      <td>NaN</td>\n",
       "      <td>4.27</td>\n",
       "      <td>18.46</td>\n",
       "    </tr>\n",
       "  </tbody>\n",
       "</table>\n",
       "<p>11872 rows × 6 columns</p>\n",
       "</div>"
      ],
      "text/plain": [
       "            High Yield Index OAS    NASDAQ  90-Day AA Fin CP  3-Month T-Bill  \\\n",
       "DATE                                                                           \n",
       "1980-01-01                   NaN       NaN               NaN            12.0   \n",
       "1980-01-02                   NaN    148.17               NaN             NaN   \n",
       "1980-01-03                   NaN    145.97               NaN             NaN   \n",
       "1980-01-04                   NaN    148.02               NaN             NaN   \n",
       "1980-01-07                   NaN    148.62               NaN             NaN   \n",
       "...                          ...       ...               ...             ...   \n",
       "2024-07-19                  3.09  17726.94               NaN             NaN   \n",
       "2024-07-22                  3.05  18007.57              5.29             NaN   \n",
       "2024-07-23                  3.02  17997.35               NaN             NaN   \n",
       "2024-07-24                  3.10  17342.41               NaN             NaN   \n",
       "2024-07-25                  3.08  17181.72              5.32             NaN   \n",
       "\n",
       "            10-Year Treasury    VIX  \n",
       "DATE                                 \n",
       "1980-01-01               NaN    NaN  \n",
       "1980-01-02             10.50    NaN  \n",
       "1980-01-03             10.60    NaN  \n",
       "1980-01-04             10.66    NaN  \n",
       "1980-01-07             10.63    NaN  \n",
       "...                      ...    ...  \n",
       "2024-07-19              4.25  16.52  \n",
       "2024-07-22              4.26  14.91  \n",
       "2024-07-23              4.25  14.72  \n",
       "2024-07-24              4.28  18.04  \n",
       "2024-07-25              4.27  18.46  \n",
       "\n",
       "[11872 rows x 6 columns]"
      ]
     },
     "execution_count": 17,
     "metadata": {},
     "output_type": "execute_result"
    }
   ],
   "source": [
    "df = dff.rename(columns=fred_series_short_names)\n",
    "df"
   ]
  },
  {
   "cell_type": "markdown",
   "metadata": {},
   "source": [
    "Balanced panel? Mixed frequencies?"
   ]
  },
  {
   "cell_type": "code",
   "execution_count": 18,
   "metadata": {},
   "outputs": [
    {
     "data": {
      "text/plain": [
       "DATE\n",
       "1980-01-01    12.00\n",
       "1980-02-01    12.86\n",
       "1980-03-01    15.20\n",
       "1980-04-01    13.20\n",
       "1980-05-01     8.58\n",
       "              ...  \n",
       "2024-02-01     5.24\n",
       "2024-03-01     5.24\n",
       "2024-04-01     5.24\n",
       "2024-05-01     5.25\n",
       "2024-06-01     5.24\n",
       "Name: 3-Month T-Bill, Length: 534, dtype: float64"
      ]
     },
     "execution_count": 18,
     "metadata": {},
     "output_type": "execute_result"
    }
   ],
   "source": [
    "df['3-Month T-Bill'].dropna()"
   ]
  },
  {
   "cell_type": "markdown",
   "metadata": {},
   "source": [
    "Find a daily version of this series. See here: https://fred.stlouisfed.org/categories/22\n",
    "\n",
    "We will end up using this series: https://fred.stlouisfed.org/series/DTB3"
   ]
  },
  {
   "cell_type": "code",
   "execution_count": 19,
   "metadata": {},
   "outputs": [],
   "source": [
    "fred_series_short_names = {\n",
    "    'BAMLH0A0HYM2': 'High Yield Index OAS',\n",
    "    'NASDAQCOM': 'NASDAQ',\n",
    "    'RIFSPPFAAD90NB': '90-Day AA Fin CP',\n",
    "    'DTB3': '3-Month T-Bill',\n",
    "    'DGS10': '10-Year Treasury',\n",
    "    'VIXCLS': 'VIX',\n",
    "}\n",
    "df = pdr.get_data_fred(fred_series_short_names.keys(), start=start_date, end=end_date)\n",
    "df = df.rename(columns=fred_series_short_names)"
   ]
  },
  {
   "cell_type": "code",
   "execution_count": 20,
   "metadata": {},
   "outputs": [
    {
     "data": {
      "text/html": [
       "<div>\n",
       "<style scoped>\n",
       "    .dataframe tbody tr th:only-of-type {\n",
       "        vertical-align: middle;\n",
       "    }\n",
       "\n",
       "    .dataframe tbody tr th {\n",
       "        vertical-align: top;\n",
       "    }\n",
       "\n",
       "    .dataframe thead th {\n",
       "        text-align: right;\n",
       "    }\n",
       "</style>\n",
       "<table border=\"1\" class=\"dataframe\">\n",
       "  <thead>\n",
       "    <tr style=\"text-align: right;\">\n",
       "      <th></th>\n",
       "      <th>High Yield Index OAS</th>\n",
       "      <th>NASDAQ</th>\n",
       "      <th>90-Day AA Fin CP</th>\n",
       "      <th>3-Month T-Bill</th>\n",
       "      <th>10-Year Treasury</th>\n",
       "      <th>VIX</th>\n",
       "    </tr>\n",
       "    <tr>\n",
       "      <th>DATE</th>\n",
       "      <th></th>\n",
       "      <th></th>\n",
       "      <th></th>\n",
       "      <th></th>\n",
       "      <th></th>\n",
       "      <th></th>\n",
       "    </tr>\n",
       "  </thead>\n",
       "  <tbody>\n",
       "    <tr>\n",
       "      <th>1980-01-01</th>\n",
       "      <td>NaN</td>\n",
       "      <td>NaN</td>\n",
       "      <td>NaN</td>\n",
       "      <td>NaN</td>\n",
       "      <td>NaN</td>\n",
       "      <td>NaN</td>\n",
       "    </tr>\n",
       "    <tr>\n",
       "      <th>1980-01-02</th>\n",
       "      <td>NaN</td>\n",
       "      <td>148.17</td>\n",
       "      <td>NaN</td>\n",
       "      <td>12.17</td>\n",
       "      <td>10.50</td>\n",
       "      <td>NaN</td>\n",
       "    </tr>\n",
       "    <tr>\n",
       "      <th>1980-01-03</th>\n",
       "      <td>NaN</td>\n",
       "      <td>145.97</td>\n",
       "      <td>NaN</td>\n",
       "      <td>12.10</td>\n",
       "      <td>10.60</td>\n",
       "      <td>NaN</td>\n",
       "    </tr>\n",
       "    <tr>\n",
       "      <th>1980-01-04</th>\n",
       "      <td>NaN</td>\n",
       "      <td>148.02</td>\n",
       "      <td>NaN</td>\n",
       "      <td>12.10</td>\n",
       "      <td>10.66</td>\n",
       "      <td>NaN</td>\n",
       "    </tr>\n",
       "    <tr>\n",
       "      <th>1980-01-07</th>\n",
       "      <td>NaN</td>\n",
       "      <td>148.62</td>\n",
       "      <td>NaN</td>\n",
       "      <td>11.86</td>\n",
       "      <td>10.63</td>\n",
       "      <td>NaN</td>\n",
       "    </tr>\n",
       "    <tr>\n",
       "      <th>...</th>\n",
       "      <td>...</td>\n",
       "      <td>...</td>\n",
       "      <td>...</td>\n",
       "      <td>...</td>\n",
       "      <td>...</td>\n",
       "      <td>...</td>\n",
       "    </tr>\n",
       "    <tr>\n",
       "      <th>2024-07-19</th>\n",
       "      <td>3.09</td>\n",
       "      <td>17726.94</td>\n",
       "      <td>NaN</td>\n",
       "      <td>5.20</td>\n",
       "      <td>4.25</td>\n",
       "      <td>16.52</td>\n",
       "    </tr>\n",
       "    <tr>\n",
       "      <th>2024-07-22</th>\n",
       "      <td>3.05</td>\n",
       "      <td>18007.57</td>\n",
       "      <td>5.29</td>\n",
       "      <td>5.19</td>\n",
       "      <td>4.26</td>\n",
       "      <td>14.91</td>\n",
       "    </tr>\n",
       "    <tr>\n",
       "      <th>2024-07-23</th>\n",
       "      <td>3.02</td>\n",
       "      <td>17997.35</td>\n",
       "      <td>NaN</td>\n",
       "      <td>5.18</td>\n",
       "      <td>4.25</td>\n",
       "      <td>14.72</td>\n",
       "    </tr>\n",
       "    <tr>\n",
       "      <th>2024-07-24</th>\n",
       "      <td>3.10</td>\n",
       "      <td>17342.41</td>\n",
       "      <td>NaN</td>\n",
       "      <td>5.18</td>\n",
       "      <td>4.28</td>\n",
       "      <td>18.04</td>\n",
       "    </tr>\n",
       "    <tr>\n",
       "      <th>2024-07-25</th>\n",
       "      <td>3.08</td>\n",
       "      <td>17181.72</td>\n",
       "      <td>5.32</td>\n",
       "      <td>5.17</td>\n",
       "      <td>4.27</td>\n",
       "      <td>18.46</td>\n",
       "    </tr>\n",
       "  </tbody>\n",
       "</table>\n",
       "<p>11721 rows × 6 columns</p>\n",
       "</div>"
      ],
      "text/plain": [
       "            High Yield Index OAS    NASDAQ  90-Day AA Fin CP  3-Month T-Bill  \\\n",
       "DATE                                                                           \n",
       "1980-01-01                   NaN       NaN               NaN             NaN   \n",
       "1980-01-02                   NaN    148.17               NaN           12.17   \n",
       "1980-01-03                   NaN    145.97               NaN           12.10   \n",
       "1980-01-04                   NaN    148.02               NaN           12.10   \n",
       "1980-01-07                   NaN    148.62               NaN           11.86   \n",
       "...                          ...       ...               ...             ...   \n",
       "2024-07-19                  3.09  17726.94               NaN            5.20   \n",
       "2024-07-22                  3.05  18007.57              5.29            5.19   \n",
       "2024-07-23                  3.02  17997.35               NaN            5.18   \n",
       "2024-07-24                  3.10  17342.41               NaN            5.18   \n",
       "2024-07-25                  3.08  17181.72              5.32            5.17   \n",
       "\n",
       "            10-Year Treasury    VIX  \n",
       "DATE                                 \n",
       "1980-01-01               NaN    NaN  \n",
       "1980-01-02             10.50    NaN  \n",
       "1980-01-03             10.60    NaN  \n",
       "1980-01-04             10.66    NaN  \n",
       "1980-01-07             10.63    NaN  \n",
       "...                      ...    ...  \n",
       "2024-07-19              4.25  16.52  \n",
       "2024-07-22              4.26  14.91  \n",
       "2024-07-23              4.25  14.72  \n",
       "2024-07-24              4.28  18.04  \n",
       "2024-07-25              4.27  18.46  \n",
       "\n",
       "[11721 rows x 6 columns]"
      ]
     },
     "execution_count": 20,
     "metadata": {},
     "output_type": "execute_result"
    }
   ],
   "source": [
    "df"
   ]
  },
  {
   "cell_type": "code",
   "execution_count": 21,
   "metadata": {},
   "outputs": [
    {
     "data": {
      "text/html": [
       "<div>\n",
       "<style scoped>\n",
       "    .dataframe tbody tr th:only-of-type {\n",
       "        vertical-align: middle;\n",
       "    }\n",
       "\n",
       "    .dataframe tbody tr th {\n",
       "        vertical-align: top;\n",
       "    }\n",
       "\n",
       "    .dataframe thead th {\n",
       "        text-align: right;\n",
       "    }\n",
       "</style>\n",
       "<table border=\"1\" class=\"dataframe\">\n",
       "  <thead>\n",
       "    <tr style=\"text-align: right;\">\n",
       "      <th></th>\n",
       "      <th>High Yield Index OAS</th>\n",
       "      <th>NASDAQ</th>\n",
       "      <th>90-Day AA Fin CP</th>\n",
       "      <th>3-Month T-Bill</th>\n",
       "      <th>10-Year Treasury</th>\n",
       "      <th>VIX</th>\n",
       "    </tr>\n",
       "    <tr>\n",
       "      <th>DATE</th>\n",
       "      <th></th>\n",
       "      <th></th>\n",
       "      <th></th>\n",
       "      <th></th>\n",
       "      <th></th>\n",
       "      <th></th>\n",
       "    </tr>\n",
       "  </thead>\n",
       "  <tbody>\n",
       "    <tr>\n",
       "      <th>1997-01-02</th>\n",
       "      <td>3.06</td>\n",
       "      <td>1280.70</td>\n",
       "      <td>5.35</td>\n",
       "      <td>5.05</td>\n",
       "      <td>6.54</td>\n",
       "      <td>21.14</td>\n",
       "    </tr>\n",
       "    <tr>\n",
       "      <th>1997-01-03</th>\n",
       "      <td>3.09</td>\n",
       "      <td>1310.68</td>\n",
       "      <td>5.35</td>\n",
       "      <td>5.04</td>\n",
       "      <td>6.52</td>\n",
       "      <td>19.13</td>\n",
       "    </tr>\n",
       "    <tr>\n",
       "      <th>1997-01-06</th>\n",
       "      <td>3.10</td>\n",
       "      <td>1316.40</td>\n",
       "      <td>5.34</td>\n",
       "      <td>5.05</td>\n",
       "      <td>6.54</td>\n",
       "      <td>19.89</td>\n",
       "    </tr>\n",
       "    <tr>\n",
       "      <th>1997-01-07</th>\n",
       "      <td>3.10</td>\n",
       "      <td>1327.73</td>\n",
       "      <td>5.33</td>\n",
       "      <td>5.02</td>\n",
       "      <td>6.57</td>\n",
       "      <td>19.35</td>\n",
       "    </tr>\n",
       "    <tr>\n",
       "      <th>1997-01-08</th>\n",
       "      <td>3.07</td>\n",
       "      <td>1320.35</td>\n",
       "      <td>5.31</td>\n",
       "      <td>5.02</td>\n",
       "      <td>6.60</td>\n",
       "      <td>20.24</td>\n",
       "    </tr>\n",
       "    <tr>\n",
       "      <th>...</th>\n",
       "      <td>...</td>\n",
       "      <td>...</td>\n",
       "      <td>...</td>\n",
       "      <td>...</td>\n",
       "      <td>...</td>\n",
       "      <td>...</td>\n",
       "    </tr>\n",
       "    <tr>\n",
       "      <th>2024-07-10</th>\n",
       "      <td>3.17</td>\n",
       "      <td>18647.45</td>\n",
       "      <td>5.35</td>\n",
       "      <td>5.23</td>\n",
       "      <td>4.28</td>\n",
       "      <td>12.85</td>\n",
       "    </tr>\n",
       "    <tr>\n",
       "      <th>2024-07-11</th>\n",
       "      <td>3.18</td>\n",
       "      <td>18283.41</td>\n",
       "      <td>5.25</td>\n",
       "      <td>5.21</td>\n",
       "      <td>4.20</td>\n",
       "      <td>12.92</td>\n",
       "    </tr>\n",
       "    <tr>\n",
       "      <th>2024-07-12</th>\n",
       "      <td>3.19</td>\n",
       "      <td>18398.45</td>\n",
       "      <td>5.35</td>\n",
       "      <td>5.21</td>\n",
       "      <td>4.18</td>\n",
       "      <td>12.46</td>\n",
       "    </tr>\n",
       "    <tr>\n",
       "      <th>2024-07-22</th>\n",
       "      <td>3.05</td>\n",
       "      <td>18007.57</td>\n",
       "      <td>5.29</td>\n",
       "      <td>5.19</td>\n",
       "      <td>4.26</td>\n",
       "      <td>14.91</td>\n",
       "    </tr>\n",
       "    <tr>\n",
       "      <th>2024-07-25</th>\n",
       "      <td>3.08</td>\n",
       "      <td>17181.72</td>\n",
       "      <td>5.32</td>\n",
       "      <td>5.17</td>\n",
       "      <td>4.27</td>\n",
       "      <td>18.46</td>\n",
       "    </tr>\n",
       "  </tbody>\n",
       "</table>\n",
       "<p>6446 rows × 6 columns</p>\n",
       "</div>"
      ],
      "text/plain": [
       "            High Yield Index OAS    NASDAQ  90-Day AA Fin CP  3-Month T-Bill  \\\n",
       "DATE                                                                           \n",
       "1997-01-02                  3.06   1280.70              5.35            5.05   \n",
       "1997-01-03                  3.09   1310.68              5.35            5.04   \n",
       "1997-01-06                  3.10   1316.40              5.34            5.05   \n",
       "1997-01-07                  3.10   1327.73              5.33            5.02   \n",
       "1997-01-08                  3.07   1320.35              5.31            5.02   \n",
       "...                          ...       ...               ...             ...   \n",
       "2024-07-10                  3.17  18647.45              5.35            5.23   \n",
       "2024-07-11                  3.18  18283.41              5.25            5.21   \n",
       "2024-07-12                  3.19  18398.45              5.35            5.21   \n",
       "2024-07-22                  3.05  18007.57              5.29            5.19   \n",
       "2024-07-25                  3.08  17181.72              5.32            5.17   \n",
       "\n",
       "            10-Year Treasury    VIX  \n",
       "DATE                                 \n",
       "1997-01-02              6.54  21.14  \n",
       "1997-01-03              6.52  19.13  \n",
       "1997-01-06              6.54  19.89  \n",
       "1997-01-07              6.57  19.35  \n",
       "1997-01-08              6.60  20.24  \n",
       "...                      ...    ...  \n",
       "2024-07-10              4.28  12.85  \n",
       "2024-07-11              4.20  12.92  \n",
       "2024-07-12              4.18  12.46  \n",
       "2024-07-22              4.26  14.91  \n",
       "2024-07-25              4.27  18.46  \n",
       "\n",
       "[6446 rows x 6 columns]"
      ]
     },
     "execution_count": 21,
     "metadata": {},
     "output_type": "execute_result"
    }
   ],
   "source": [
    "df.dropna()"
   ]
  },
  {
   "cell_type": "markdown",
   "metadata": {},
   "source": [
    "## Transforming and Normalizing the data\n",
    "\n",
    "What is transformation and normalization? Are these different things?\n",
    "\n",
    " - Why would one transform data? What is feature engineering?\n",
    " - What is normalization?\n",
    "\n",
    "What does stationarity mean? See the the following plots. Some of these variable are stationary. Other are not? Why is this a problem?"
   ]
  },
  {
   "cell_type": "code",
   "execution_count": 22,
   "metadata": {},
   "outputs": [
    {
     "data": {
      "text/plain": [
       "<Axes: xlabel='DATE'>"
      ]
     },
     "execution_count": 22,
     "metadata": {},
     "output_type": "execute_result"
    },
    {
     "data": {
      "image/png": "[encoded data removed]",
      "text/plain": [
       "<Figure size 640x480 with 1 Axes>"
      ]
     },
     "metadata": {},
     "output_type": "display_data"
    }
   ],
   "source": [
    "df.plot()"
   ]
  },
  {
   "cell_type": "code",
   "execution_count": 23,
   "metadata": {},
   "outputs": [
    {
     "name": "stdout",
     "output_type": "stream",
     "text": [
      "<class 'pandas.core.frame.DataFrame'>\n",
      "DatetimeIndex: 11721 entries, 1980-01-01 to 2024-07-25\n",
      "Data columns (total 6 columns):\n",
      " #   Column                Non-Null Count  Dtype  \n",
      "---  ------                --------------  -----  \n",
      " 0   High Yield Index OAS  7197 non-null   float64\n",
      " 1   NASDAQ                11236 non-null  float64\n",
      " 2   90-Day AA Fin CP      6465 non-null   float64\n",
      " 3   3-Month T-Bill        11143 non-null  float64\n",
      " 4   10-Year Treasury      11143 non-null  float64\n",
      " 5   VIX                   8722 non-null   float64\n",
      "dtypes: float64(6)\n",
      "memory usage: 641.0 KB\n"
     ]
    }
   ],
   "source": [
    "df.info()"
   ]
  },
  {
   "cell_type": "code",
   "execution_count": 24,
   "metadata": {},
   "outputs": [
    {
     "data": {
      "text/plain": [
       "<Axes: xlabel='DATE'>"
      ]
     },
     "execution_count": 24,
     "metadata": {},
     "output_type": "execute_result"
    },
    {
     "data": {
      "image/png": "[encoded data removed]",
      "text/plain": [
       "<Figure size 640x480 with 1 Axes>"
      ]
     },
     "metadata": {},
     "output_type": "display_data"
    }
   ],
   "source": [
    "df.drop(columns=['NASDAQ']).plot()"
   ]
  },
  {
   "cell_type": "markdown",
   "metadata": {},
   "source": [
    "Let's try some transformations like those used in the OFR Financial Stress Index: https://www.financialresearch.gov/financial-stress-index/files/indicators/index.html"
   ]
  },
  {
   "cell_type": "code",
   "execution_count": 25,
   "metadata": {},
   "outputs": [
    {
     "data": {
      "text/html": [
       "<div>\n",
       "<style scoped>\n",
       "    .dataframe tbody tr th:only-of-type {\n",
       "        vertical-align: middle;\n",
       "    }\n",
       "\n",
       "    .dataframe tbody tr th {\n",
       "        vertical-align: top;\n",
       "    }\n",
       "\n",
       "    .dataframe thead th {\n",
       "        text-align: right;\n",
       "    }\n",
       "</style>\n",
       "<table border=\"1\" class=\"dataframe\">\n",
       "  <thead>\n",
       "    <tr style=\"text-align: right;\">\n",
       "      <th></th>\n",
       "      <th>High Yield Index OAS</th>\n",
       "      <th>NASDAQ</th>\n",
       "      <th>90-Day AA Fin CP</th>\n",
       "      <th>3-Month T-Bill</th>\n",
       "      <th>10-Year Treasury</th>\n",
       "      <th>VIX</th>\n",
       "    </tr>\n",
       "    <tr>\n",
       "      <th>DATE</th>\n",
       "      <th></th>\n",
       "      <th></th>\n",
       "      <th></th>\n",
       "      <th></th>\n",
       "      <th></th>\n",
       "      <th></th>\n",
       "    </tr>\n",
       "  </thead>\n",
       "  <tbody>\n",
       "    <tr>\n",
       "      <th>1980-01-01</th>\n",
       "      <td>NaN</td>\n",
       "      <td>NaN</td>\n",
       "      <td>NaN</td>\n",
       "      <td>NaN</td>\n",
       "      <td>NaN</td>\n",
       "      <td>NaN</td>\n",
       "    </tr>\n",
       "    <tr>\n",
       "      <th>1980-01-02</th>\n",
       "      <td>NaN</td>\n",
       "      <td>NaN</td>\n",
       "      <td>NaN</td>\n",
       "      <td>NaN</td>\n",
       "      <td>NaN</td>\n",
       "      <td>NaN</td>\n",
       "    </tr>\n",
       "    <tr>\n",
       "      <th>1980-01-03</th>\n",
       "      <td>NaN</td>\n",
       "      <td>NaN</td>\n",
       "      <td>NaN</td>\n",
       "      <td>NaN</td>\n",
       "      <td>NaN</td>\n",
       "      <td>NaN</td>\n",
       "    </tr>\n",
       "    <tr>\n",
       "      <th>1980-01-04</th>\n",
       "      <td>NaN</td>\n",
       "      <td>NaN</td>\n",
       "      <td>NaN</td>\n",
       "      <td>NaN</td>\n",
       "      <td>NaN</td>\n",
       "      <td>NaN</td>\n",
       "    </tr>\n",
       "    <tr>\n",
       "      <th>1980-01-07</th>\n",
       "      <td>NaN</td>\n",
       "      <td>NaN</td>\n",
       "      <td>NaN</td>\n",
       "      <td>NaN</td>\n",
       "      <td>NaN</td>\n",
       "      <td>NaN</td>\n",
       "    </tr>\n",
       "    <tr>\n",
       "      <th>...</th>\n",
       "      <td>...</td>\n",
       "      <td>...</td>\n",
       "      <td>...</td>\n",
       "      <td>...</td>\n",
       "      <td>...</td>\n",
       "      <td>...</td>\n",
       "    </tr>\n",
       "    <tr>\n",
       "      <th>2024-07-19</th>\n",
       "      <td>NaN</td>\n",
       "      <td>NaN</td>\n",
       "      <td>NaN</td>\n",
       "      <td>NaN</td>\n",
       "      <td>NaN</td>\n",
       "      <td>NaN</td>\n",
       "    </tr>\n",
       "    <tr>\n",
       "      <th>2024-07-22</th>\n",
       "      <td>NaN</td>\n",
       "      <td>NaN</td>\n",
       "      <td>NaN</td>\n",
       "      <td>NaN</td>\n",
       "      <td>NaN</td>\n",
       "      <td>NaN</td>\n",
       "    </tr>\n",
       "    <tr>\n",
       "      <th>2024-07-23</th>\n",
       "      <td>NaN</td>\n",
       "      <td>NaN</td>\n",
       "      <td>NaN</td>\n",
       "      <td>NaN</td>\n",
       "      <td>NaN</td>\n",
       "      <td>NaN</td>\n",
       "    </tr>\n",
       "    <tr>\n",
       "      <th>2024-07-24</th>\n",
       "      <td>NaN</td>\n",
       "      <td>NaN</td>\n",
       "      <td>NaN</td>\n",
       "      <td>NaN</td>\n",
       "      <td>NaN</td>\n",
       "      <td>NaN</td>\n",
       "    </tr>\n",
       "    <tr>\n",
       "      <th>2024-07-25</th>\n",
       "      <td>NaN</td>\n",
       "      <td>NaN</td>\n",
       "      <td>NaN</td>\n",
       "      <td>NaN</td>\n",
       "      <td>NaN</td>\n",
       "      <td>NaN</td>\n",
       "    </tr>\n",
       "  </tbody>\n",
       "</table>\n",
       "<p>11721 rows × 6 columns</p>\n",
       "</div>"
      ],
      "text/plain": [
       "            High Yield Index OAS  NASDAQ  90-Day AA Fin CP  3-Month T-Bill  \\\n",
       "DATE                                                                         \n",
       "1980-01-01                   NaN     NaN               NaN             NaN   \n",
       "1980-01-02                   NaN     NaN               NaN             NaN   \n",
       "1980-01-03                   NaN     NaN               NaN             NaN   \n",
       "1980-01-04                   NaN     NaN               NaN             NaN   \n",
       "1980-01-07                   NaN     NaN               NaN             NaN   \n",
       "...                          ...     ...               ...             ...   \n",
       "2024-07-19                   NaN     NaN               NaN             NaN   \n",
       "2024-07-22                   NaN     NaN               NaN             NaN   \n",
       "2024-07-23                   NaN     NaN               NaN             NaN   \n",
       "2024-07-24                   NaN     NaN               NaN             NaN   \n",
       "2024-07-25                   NaN     NaN               NaN             NaN   \n",
       "\n",
       "            10-Year Treasury  VIX  \n",
       "DATE                               \n",
       "1980-01-01               NaN  NaN  \n",
       "1980-01-02               NaN  NaN  \n",
       "1980-01-03               NaN  NaN  \n",
       "1980-01-04               NaN  NaN  \n",
       "1980-01-07               NaN  NaN  \n",
       "...                      ...  ...  \n",
       "2024-07-19               NaN  NaN  \n",
       "2024-07-22               NaN  NaN  \n",
       "2024-07-23               NaN  NaN  \n",
       "2024-07-24               NaN  NaN  \n",
       "2024-07-25               NaN  NaN  \n",
       "\n",
       "[11721 rows x 6 columns]"
      ]
     },
     "execution_count": 25,
     "metadata": {},
     "output_type": "execute_result"
    }
   ],
   "source": [
    "dfn = pd.DataFrame().reindex_like(df)\n",
    "dfn"
   ]
  },
  {
   "cell_type": "code",
   "execution_count": 26,
   "metadata": {},
   "outputs": [
    {
     "data": {
      "text/plain": [
       "DATE\n",
       "1980-01-01   NaN\n",
       "1980-01-02   NaN\n",
       "1980-01-03   NaN\n",
       "1980-01-04   NaN\n",
       "1980-01-07   NaN\n",
       "              ..\n",
       "2024-07-19   NaN\n",
       "2024-07-22   NaN\n",
       "2024-07-23   NaN\n",
       "2024-07-24   NaN\n",
       "2024-07-25   NaN\n",
       "Name: NASDAQ, Length: 11721, dtype: float64"
      ]
     },
     "execution_count": 26,
     "metadata": {},
     "output_type": "execute_result"
    }
   ],
   "source": [
    "df['NASDAQ'].rolling(250).mean()"
   ]
  },
  {
   "cell_type": "code",
   "execution_count": 27,
   "metadata": {},
   "outputs": [],
   "source": [
    "df = df.dropna()"
   ]
  },
  {
   "cell_type": "code",
   "execution_count": 28,
   "metadata": {},
   "outputs": [
    {
     "data": {
      "text/plain": [
       "DATE\n",
       "1997-01-02            NaN\n",
       "1997-01-03            NaN\n",
       "1997-01-06            NaN\n",
       "1997-01-07            NaN\n",
       "1997-01-08            NaN\n",
       "                 ...     \n",
       "2024-07-10    13475.45092\n",
       "2024-07-11    13504.37800\n",
       "2024-07-12    13535.02176\n",
       "2024-07-22    13564.74956\n",
       "2024-07-25    13590.21472\n",
       "Name: NASDAQ, Length: 6446, dtype: float64"
      ]
     },
     "execution_count": 28,
     "metadata": {},
     "output_type": "execute_result"
    }
   ],
   "source": [
    "df['NASDAQ'].rolling(250).mean()"
   ]
  },
  {
   "cell_type": "code",
   "execution_count": 29,
   "metadata": {},
   "outputs": [],
   "source": [
    "# 'High Yield Index OAS': Leave as is\n",
    "dfn['High Yield Index OAS'] = df['High Yield Index OAS']\n",
    "dfn['CP - Treasury Spread, 3m'] = df['90-Day AA Fin CP'] - df['10-Year Treasury']\n",
    "# 'NASDAQ':  # We're using something different, but still apply rolling mean transformation\n",
    "dfn['NASDAQ'] = df['NASDAQ'] - df['NASDAQ'].rolling(250).mean()\n",
    "dfn['10-Year Treasury'] = df['10-Year Treasury'] - df['10-Year Treasury'].rolling(250).mean()\n",
    "# 'VIX': Leave as is\n",
    "dfn['VIX'] = df['VIX']"
   ]
  },
  {
   "cell_type": "code",
   "execution_count": 30,
   "metadata": {},
   "outputs": [],
   "source": [
    "dfn = dfn.drop(columns=['90-Day AA Fin CP', '3-Month T-Bill'])\n",
    "dfn = dfn.dropna()"
   ]
  },
  {
   "cell_type": "code",
   "execution_count": 31,
   "metadata": {},
   "outputs": [
    {
     "name": "stdout",
     "output_type": "stream",
     "text": [
      "<class 'pandas.core.frame.DataFrame'>\n",
      "DatetimeIndex: 6197 entries, 1998-01-05 to 2024-07-25\n",
      "Data columns (total 5 columns):\n",
      " #   Column                    Non-Null Count  Dtype  \n",
      "---  ------                    --------------  -----  \n",
      " 0   High Yield Index OAS      6197 non-null   float64\n",
      " 1   NASDAQ                    6197 non-null   float64\n",
      " 2   10-Year Treasury          6197 non-null   float64\n",
      " 3   VIX                       6197 non-null   float64\n",
      " 4   CP - Treasury Spread, 3m  6197 non-null   float64\n",
      "dtypes: float64(5)\n",
      "memory usage: 290.5 KB\n"
     ]
    }
   ],
   "source": [
    "dfn.info()"
   ]
  },
  {
   "cell_type": "markdown",
   "metadata": {},
   "source": [
    "We finished with our transformations. Now, let's normalize. First, why is it important?"
   ]
  },
  {
   "cell_type": "code",
   "execution_count": 32,
   "metadata": {},
   "outputs": [
    {
     "data": {
      "text/plain": [
       "<Axes: xlabel='DATE'>"
      ]
     },
     "execution_count": 32,
     "metadata": {},
     "output_type": "execute_result"
    },
    {
     "data": {
      "image/png": "[encoded data removed]",
      "text/plain": [
       "<Figure size 640x480 with 1 Axes>"
      ]
     },
     "metadata": {},
     "output_type": "display_data"
    }
   ],
   "source": [
    "dfn.plot()"
   ]
  },
  {
   "cell_type": "markdown",
   "metadata": {},
   "source": [
    "Now, normalize each column,\n",
    "$$\n",
    "z = \\frac{x - \\bar x}{\\text{std}(x)}\n",
    "$$"
   ]
  },
  {
   "cell_type": "code",
   "execution_count": 33,
   "metadata": {},
   "outputs": [],
   "source": [
    "dfn = (dfn - dfn.mean()) / dfn.std()"
   ]
  },
  {
   "cell_type": "code",
   "execution_count": 34,
   "metadata": {},
   "outputs": [
    {
     "data": {
      "text/plain": [
       "<Axes: xlabel='DATE'>"
      ]
     },
     "execution_count": 34,
     "metadata": {},
     "output_type": "execute_result"
    },
    {
     "data": {
      "image/png": "[encoded data removed]",
      "text/plain": [
       "<Figure size 640x480 with 1 Axes>"
      ]
     },
     "metadata": {},
     "output_type": "display_data"
    }
   ],
   "source": [
    "dfn.plot()"
   ]
  },
  {
   "cell_type": "code",
   "execution_count": 35,
   "metadata": {},
   "outputs": [],
   "source": [
    "def pca(dfn, module='scikitlearn'):\n",
    "    if module == 'statsmodels':\n",
    "        _pc1, _loadings, projection, rsquare, _, _, _ = statsmodels.multivariate.pca.pca(dfn,\n",
    "            ncomp=1, standardize=True, demean=True, normalize=True, gls=False,\n",
    "            weights=None, method='svd')\n",
    "        _loadings = _loadings['comp_0']\n",
    "        loadings = np.std(_pc1) * _loadings\n",
    "        pc1 = _pc1 / np.std(_pc1)\n",
    "        pc1 = pc1.rename(columns={'comp_0':'PC1'})['PC1']\n",
    "\n",
    "    elif module == 'scikitlearn':\n",
    "        pca = sklearn.decomposition.PCA(n_components=1)\n",
    "        _pc1 = pd.Series(pca.fit_transform(dfn)[:,0], index=dfn.index, name='PC1')\n",
    "        _loadings = pca.components_.T * np.sqrt(pca.explained_variance_)\n",
    "        _loadings = pd.Series(_loadings[:,0], index=dfn.columns)\n",
    "\n",
    "        loadings = np.std(_pc1) * _loadings\n",
    "        pc1 = _pc1 / np.std(_pc1)\n",
    "        pc1.name = 'PC1'\n",
    "    else:\n",
    "        raise ValueError\n",
    "\n",
    "\n",
    "\n",
    "    loadings.name = \"loadings\"\n",
    "\n",
    "    return pc1, loadings\n",
    "\n",
    "def stacked_plot(df, filename=None):\n",
    "    \"\"\"\n",
    "    df=category_contributions\n",
    "    # category_contributions.sum(axis=1).plot()\n",
    "    \"\"\"\n",
    "\n",
    "    df_pos = df[df >= 0]\n",
    "    df_neg = df[df < 0]\n",
    "\n",
    "    alpha = .3\n",
    "    linewidth = .5\n",
    "\n",
    "    ax = df_pos.plot.area(alpha=alpha, linewidth=linewidth, legend=False)\n",
    "    pc1 = df.sum(axis=1)\n",
    "    pc1.name = 'pc1'\n",
    "    pc1.plot(color=\"Black\", label='pc1', linewidth=1)\n",
    "\n",
    "\n",
    "    plt.legend()\n",
    "    ax.set_prop_cycle(None)\n",
    "    df_neg.plot.area(alpha=alpha, ax=ax, linewidth=linewidth, legend=False, ylim=(-3,3))\n",
    "    # recompute the ax.dataLim\n",
    "    ax.relim()\n",
    "    # update ax.viewLim using the new dataLim\n",
    "    ax.autoscale()\n",
    "    # ax.set_ylabel('Standard Deviations')\n",
    "    # ax.set_ylim(-3,4)\n",
    "    # ax.set_ylim(-30,30)\n",
    "\n",
    "    if not (filename is None):\n",
    "        filename = Path(filename)\n",
    "        figure = plt.gcf() # get current figure\n",
    "        figure.set_size_inches(8, 6)\n",
    "        plt.savefig(filename, dpi=300)\n"
   ]
  },
  {
   "cell_type": "code",
   "execution_count": 36,
   "metadata": {},
   "outputs": [],
   "source": [
    "pc1, loadings = pca(dfn, module='scikitlearn')"
   ]
  },
  {
   "cell_type": "code",
   "execution_count": 37,
   "metadata": {},
   "outputs": [
    {
     "data": {
      "text/plain": [
       "<Axes: xlabel='DATE'>"
      ]
     },
     "execution_count": 37,
     "metadata": {},
     "output_type": "execute_result"
    },
    {
     "data": {
      "image/png": "[encoded data removed]",
      "text/plain": [
       "<Figure size 640x480 with 1 Axes>"
      ]
     },
     "metadata": {},
     "output_type": "display_data"
    }
   ],
   "source": [
    "pc1.plot()"
   ]
  },
  {
   "cell_type": "code",
   "execution_count": 38,
   "metadata": {},
   "outputs": [
    {
     "data": {
      "image/png": "[encoded data removed]",
      "text/plain": [
       "<Figure size 640x480 with 1 Axes>"
      ]
     },
     "metadata": {},
     "output_type": "display_data"
    }
   ],
   "source": [
    "stacked_plot(dfn)"
   ]
  },
  {
   "cell_type": "markdown",
   "metadata": {},
   "source": [
    "Let's compare solutions from two different packages"
   ]
  },
  {
   "cell_type": "code",
   "execution_count": 39,
   "metadata": {},
   "outputs": [
    {
     "name": "stderr",
     "output_type": "stream",
     "text": [
      "C:\\Users\\Jeremy\\miniforge3\\envs\\finm\\Lib\\site-packages\\numpy\\core\\fromnumeric.py:3643: FutureWarning: The behavior of DataFrame.std with axis=None is deprecated, in a future version this will reduce over both axes and return a scalar. To retain the old behavior, pass axis=0 (or do not pass axis)\n",
      "  return std(axis=axis, dtype=dtype, out=out, ddof=ddof, **kwargs)\n"
     ]
    },
    {
     "data": {
      "text/plain": [
       "4.875717064874378e-16"
      ]
     },
     "execution_count": 39,
     "metadata": {},
     "output_type": "execute_result"
    }
   ],
   "source": [
    "def root_mean_squared_error(sa, sb):\n",
    "    return np.sqrt(np.mean((sa - sb)**2))\n",
    "\n",
    "pc1_sk, loadings_sk = pca(dfn, module='scikitlearn')\n",
    "pc1_sm, loadings_sm = pca(dfn, module='statsmodels')\n",
    "root_mean_squared_error(pc1_sm, pc1_sk)"
   ]
  },
  {
   "cell_type": "markdown",
   "metadata": {},
   "source": [
    "## Factor Analysis of a Panel of Stock Returns?"
   ]
  },
  {
   "cell_type": "code",
   "execution_count": 40,
   "metadata": {},
   "outputs": [
    {
     "name": "stderr",
     "output_type": "stream",
     "text": [
      "\r",
      "[                       0%%                      ]"
     ]
    },
    {
     "name": "stderr",
     "output_type": "stream",
     "text": [
      "\r",
      "[**********************67%%******                ]  2 of 3 completed"
     ]
    },
    {
     "name": "stderr",
     "output_type": "stream",
     "text": [
      "\r",
      "[*********************100%%**********************]  3 of 3 completed"
     ]
    },
    {
     "name": "stderr",
     "output_type": "stream",
     "text": [
      "\n"
     ]
    }
   ],
   "source": [
    "sample = yf.download(\"SPY AAPL MSFT\", start=\"2017-01-01\", end=\"2017-04-30\")"
   ]
  },
  {
   "cell_type": "code",
   "execution_count": 41,
   "metadata": {},
   "outputs": [
    {
     "data": {
      "text/html": [
       "<div>\n",
       "<style scoped>\n",
       "    .dataframe tbody tr th:only-of-type {\n",
       "        vertical-align: middle;\n",
       "    }\n",
       "\n",
       "    .dataframe tbody tr th {\n",
       "        vertical-align: top;\n",
       "    }\n",
       "\n",
       "    .dataframe thead tr th {\n",
       "        text-align: left;\n",
       "    }\n",
       "\n",
       "    .dataframe thead tr:last-of-type th {\n",
       "        text-align: right;\n",
       "    }\n",
       "</style>\n",
       "<table border=\"1\" class=\"dataframe\">\n",
       "  <thead>\n",
       "    <tr>\n",
       "      <th>Price</th>\n",
       "      <th colspan=\"3\" halign=\"left\">Adj Close</th>\n",
       "      <th colspan=\"3\" halign=\"left\">Close</th>\n",
       "      <th colspan=\"3\" halign=\"left\">High</th>\n",
       "      <th colspan=\"3\" halign=\"left\">Low</th>\n",
       "      <th colspan=\"3\" halign=\"left\">Open</th>\n",
       "      <th colspan=\"3\" halign=\"left\">Volume</th>\n",
       "    </tr>\n",
       "    <tr>\n",
       "      <th>Ticker</th>\n",
       "      <th>AAPL</th>\n",
       "      <th>MSFT</th>\n",
       "      <th>SPY</th>\n",
       "      <th>AAPL</th>\n",
       "      <th>MSFT</th>\n",
       "      <th>SPY</th>\n",
       "      <th>AAPL</th>\n",
       "      <th>MSFT</th>\n",
       "      <th>SPY</th>\n",
       "      <th>AAPL</th>\n",
       "      <th>MSFT</th>\n",
       "      <th>SPY</th>\n",
       "      <th>AAPL</th>\n",
       "      <th>MSFT</th>\n",
       "      <th>SPY</th>\n",
       "      <th>AAPL</th>\n",
       "      <th>MSFT</th>\n",
       "      <th>SPY</th>\n",
       "    </tr>\n",
       "    <tr>\n",
       "      <th>Date</th>\n",
       "      <th></th>\n",
       "      <th></th>\n",
       "      <th></th>\n",
       "      <th></th>\n",
       "      <th></th>\n",
       "      <th></th>\n",
       "      <th></th>\n",
       "      <th></th>\n",
       "      <th></th>\n",
       "      <th></th>\n",
       "      <th></th>\n",
       "      <th></th>\n",
       "      <th></th>\n",
       "      <th></th>\n",
       "      <th></th>\n",
       "      <th></th>\n",
       "      <th></th>\n",
       "      <th></th>\n",
       "    </tr>\n",
       "  </thead>\n",
       "  <tbody>\n",
       "    <tr>\n",
       "      <th>2017-01-03</th>\n",
       "      <td>26.952715</td>\n",
       "      <td>56.930584</td>\n",
       "      <td>198.560028</td>\n",
       "      <td>29.037500</td>\n",
       "      <td>62.580002</td>\n",
       "      <td>225.240005</td>\n",
       "      <td>29.082500</td>\n",
       "      <td>62.840000</td>\n",
       "      <td>225.830002</td>\n",
       "      <td>28.690001</td>\n",
       "      <td>62.130001</td>\n",
       "      <td>223.880005</td>\n",
       "      <td>28.950001</td>\n",
       "      <td>62.790001</td>\n",
       "      <td>225.039993</td>\n",
       "      <td>115127600</td>\n",
       "      <td>20694100</td>\n",
       "      <td>91366500</td>\n",
       "    </tr>\n",
       "    <tr>\n",
       "      <th>2017-01-04</th>\n",
       "      <td>26.922543</td>\n",
       "      <td>56.675854</td>\n",
       "      <td>199.741287</td>\n",
       "      <td>29.004999</td>\n",
       "      <td>62.299999</td>\n",
       "      <td>226.580002</td>\n",
       "      <td>29.127501</td>\n",
       "      <td>62.750000</td>\n",
       "      <td>226.750000</td>\n",
       "      <td>28.937500</td>\n",
       "      <td>62.119999</td>\n",
       "      <td>225.610001</td>\n",
       "      <td>28.962500</td>\n",
       "      <td>62.480000</td>\n",
       "      <td>225.619995</td>\n",
       "      <td>84472400</td>\n",
       "      <td>21340000</td>\n",
       "      <td>78744400</td>\n",
       "    </tr>\n",
       "    <tr>\n",
       "      <th>2017-01-05</th>\n",
       "      <td>27.059458</td>\n",
       "      <td>56.675854</td>\n",
       "      <td>199.582626</td>\n",
       "      <td>29.152500</td>\n",
       "      <td>62.299999</td>\n",
       "      <td>226.399994</td>\n",
       "      <td>29.215000</td>\n",
       "      <td>62.660000</td>\n",
       "      <td>226.580002</td>\n",
       "      <td>28.952499</td>\n",
       "      <td>62.029999</td>\n",
       "      <td>225.479996</td>\n",
       "      <td>28.980000</td>\n",
       "      <td>62.189999</td>\n",
       "      <td>226.270004</td>\n",
       "      <td>88774400</td>\n",
       "      <td>24876000</td>\n",
       "      <td>78379000</td>\n",
       "    </tr>\n",
       "    <tr>\n",
       "      <th>2017-01-06</th>\n",
       "      <td>27.361120</td>\n",
       "      <td>57.167107</td>\n",
       "      <td>200.296692</td>\n",
       "      <td>29.477501</td>\n",
       "      <td>62.840000</td>\n",
       "      <td>227.210007</td>\n",
       "      <td>29.540001</td>\n",
       "      <td>63.150002</td>\n",
       "      <td>227.750000</td>\n",
       "      <td>29.117500</td>\n",
       "      <td>62.040001</td>\n",
       "      <td>225.899994</td>\n",
       "      <td>29.195000</td>\n",
       "      <td>62.299999</td>\n",
       "      <td>226.529999</td>\n",
       "      <td>127007600</td>\n",
       "      <td>19922900</td>\n",
       "      <td>71559900</td>\n",
       "    </tr>\n",
       "    <tr>\n",
       "      <th>2017-01-09</th>\n",
       "      <td>27.611736</td>\n",
       "      <td>56.985157</td>\n",
       "      <td>199.635529</td>\n",
       "      <td>29.747499</td>\n",
       "      <td>62.639999</td>\n",
       "      <td>226.460007</td>\n",
       "      <td>29.857500</td>\n",
       "      <td>63.080002</td>\n",
       "      <td>227.070007</td>\n",
       "      <td>29.485001</td>\n",
       "      <td>62.540001</td>\n",
       "      <td>226.419998</td>\n",
       "      <td>29.487499</td>\n",
       "      <td>62.759998</td>\n",
       "      <td>226.910004</td>\n",
       "      <td>134247600</td>\n",
       "      <td>20382700</td>\n",
       "      <td>46939700</td>\n",
       "    </tr>\n",
       "    <tr>\n",
       "      <th>...</th>\n",
       "      <td>...</td>\n",
       "      <td>...</td>\n",
       "      <td>...</td>\n",
       "      <td>...</td>\n",
       "      <td>...</td>\n",
       "      <td>...</td>\n",
       "      <td>...</td>\n",
       "      <td>...</td>\n",
       "      <td>...</td>\n",
       "      <td>...</td>\n",
       "      <td>...</td>\n",
       "      <td>...</td>\n",
       "      <td>...</td>\n",
       "      <td>...</td>\n",
       "      <td>...</td>\n",
       "      <td>...</td>\n",
       "      <td>...</td>\n",
       "      <td>...</td>\n",
       "    </tr>\n",
       "    <tr>\n",
       "      <th>2017-04-24</th>\n",
       "      <td>33.476295</td>\n",
       "      <td>61.806141</td>\n",
       "      <td>209.986511</td>\n",
       "      <td>35.910000</td>\n",
       "      <td>67.529999</td>\n",
       "      <td>237.169998</td>\n",
       "      <td>35.987499</td>\n",
       "      <td>67.660004</td>\n",
       "      <td>237.410004</td>\n",
       "      <td>35.794998</td>\n",
       "      <td>67.099998</td>\n",
       "      <td>234.559998</td>\n",
       "      <td>35.875000</td>\n",
       "      <td>67.480003</td>\n",
       "      <td>237.179993</td>\n",
       "      <td>68537200</td>\n",
       "      <td>29770000</td>\n",
       "      <td>119209900</td>\n",
       "    </tr>\n",
       "    <tr>\n",
       "      <th>2017-04-25</th>\n",
       "      <td>33.683720</td>\n",
       "      <td>62.163094</td>\n",
       "      <td>211.208313</td>\n",
       "      <td>36.132500</td>\n",
       "      <td>67.919998</td>\n",
       "      <td>238.550003</td>\n",
       "      <td>36.224998</td>\n",
       "      <td>68.040001</td>\n",
       "      <td>238.949997</td>\n",
       "      <td>35.967499</td>\n",
       "      <td>67.599998</td>\n",
       "      <td>237.809998</td>\n",
       "      <td>35.977501</td>\n",
       "      <td>67.900002</td>\n",
       "      <td>237.910004</td>\n",
       "      <td>75486000</td>\n",
       "      <td>30242700</td>\n",
       "      <td>76698300</td>\n",
       "    </tr>\n",
       "    <tr>\n",
       "      <th>2017-04-26</th>\n",
       "      <td>33.485615</td>\n",
       "      <td>62.080711</td>\n",
       "      <td>211.075516</td>\n",
       "      <td>35.919998</td>\n",
       "      <td>67.830002</td>\n",
       "      <td>238.399994</td>\n",
       "      <td>36.150002</td>\n",
       "      <td>68.309998</td>\n",
       "      <td>239.529999</td>\n",
       "      <td>35.845001</td>\n",
       "      <td>67.620003</td>\n",
       "      <td>238.350006</td>\n",
       "      <td>36.117500</td>\n",
       "      <td>68.080002</td>\n",
       "      <td>238.509995</td>\n",
       "      <td>80164800</td>\n",
       "      <td>26190800</td>\n",
       "      <td>84702500</td>\n",
       "    </tr>\n",
       "    <tr>\n",
       "      <th>2017-04-27</th>\n",
       "      <td>33.511253</td>\n",
       "      <td>62.483433</td>\n",
       "      <td>211.252609</td>\n",
       "      <td>35.947498</td>\n",
       "      <td>68.269997</td>\n",
       "      <td>238.600006</td>\n",
       "      <td>36.040001</td>\n",
       "      <td>68.379997</td>\n",
       "      <td>238.949997</td>\n",
       "      <td>35.827499</td>\n",
       "      <td>67.580002</td>\n",
       "      <td>237.979996</td>\n",
       "      <td>35.980000</td>\n",
       "      <td>68.150002</td>\n",
       "      <td>238.770004</td>\n",
       "      <td>56985200</td>\n",
       "      <td>34971000</td>\n",
       "      <td>57410300</td>\n",
       "    </tr>\n",
       "    <tr>\n",
       "      <th>2017-04-28</th>\n",
       "      <td>33.478622</td>\n",
       "      <td>62.657310</td>\n",
       "      <td>210.792191</td>\n",
       "      <td>35.912498</td>\n",
       "      <td>68.459999</td>\n",
       "      <td>238.080002</td>\n",
       "      <td>36.075001</td>\n",
       "      <td>69.139999</td>\n",
       "      <td>238.929993</td>\n",
       "      <td>35.817501</td>\n",
       "      <td>67.690002</td>\n",
       "      <td>237.929993</td>\n",
       "      <td>36.022499</td>\n",
       "      <td>68.910004</td>\n",
       "      <td>238.899994</td>\n",
       "      <td>83441600</td>\n",
       "      <td>39548800</td>\n",
       "      <td>63532800</td>\n",
       "    </tr>\n",
       "  </tbody>\n",
       "</table>\n",
       "<p>81 rows × 18 columns</p>\n",
       "</div>"
      ],
      "text/plain": [
       "Price       Adj Close                             Close             \\\n",
       "Ticker           AAPL       MSFT         SPY       AAPL       MSFT   \n",
       "Date                                                                 \n",
       "2017-01-03  26.952715  56.930584  198.560028  29.037500  62.580002   \n",
       "2017-01-04  26.922543  56.675854  199.741287  29.004999  62.299999   \n",
       "2017-01-05  27.059458  56.675854  199.582626  29.152500  62.299999   \n",
       "2017-01-06  27.361120  57.167107  200.296692  29.477501  62.840000   \n",
       "2017-01-09  27.611736  56.985157  199.635529  29.747499  62.639999   \n",
       "...               ...        ...         ...        ...        ...   \n",
       "2017-04-24  33.476295  61.806141  209.986511  35.910000  67.529999   \n",
       "2017-04-25  33.683720  62.163094  211.208313  36.132500  67.919998   \n",
       "2017-04-26  33.485615  62.080711  211.075516  35.919998  67.830002   \n",
       "2017-04-27  33.511253  62.483433  211.252609  35.947498  68.269997   \n",
       "2017-04-28  33.478622  62.657310  210.792191  35.912498  68.459999   \n",
       "\n",
       "Price                        High                               Low  \\\n",
       "Ticker             SPY       AAPL       MSFT         SPY       AAPL   \n",
       "Date                                                                  \n",
       "2017-01-03  225.240005  29.082500  62.840000  225.830002  28.690001   \n",
       "2017-01-04  226.580002  29.127501  62.750000  226.750000  28.937500   \n",
       "2017-01-05  226.399994  29.215000  62.660000  226.580002  28.952499   \n",
       "2017-01-06  227.210007  29.540001  63.150002  227.750000  29.117500   \n",
       "2017-01-09  226.460007  29.857500  63.080002  227.070007  29.485001   \n",
       "...                ...        ...        ...         ...        ...   \n",
       "2017-04-24  237.169998  35.987499  67.660004  237.410004  35.794998   \n",
       "2017-04-25  238.550003  36.224998  68.040001  238.949997  35.967499   \n",
       "2017-04-26  238.399994  36.150002  68.309998  239.529999  35.845001   \n",
       "2017-04-27  238.600006  36.040001  68.379997  238.949997  35.827499   \n",
       "2017-04-28  238.080002  36.075001  69.139999  238.929993  35.817501   \n",
       "\n",
       "Price                                   Open                         \\\n",
       "Ticker           MSFT         SPY       AAPL       MSFT         SPY   \n",
       "Date                                                                  \n",
       "2017-01-03  62.130001  223.880005  28.950001  62.790001  225.039993   \n",
       "2017-01-04  62.119999  225.610001  28.962500  62.480000  225.619995   \n",
       "2017-01-05  62.029999  225.479996  28.980000  62.189999  226.270004   \n",
       "2017-01-06  62.040001  225.899994  29.195000  62.299999  226.529999   \n",
       "2017-01-09  62.540001  226.419998  29.487499  62.759998  226.910004   \n",
       "...               ...         ...        ...        ...         ...   \n",
       "2017-04-24  67.099998  234.559998  35.875000  67.480003  237.179993   \n",
       "2017-04-25  67.599998  237.809998  35.977501  67.900002  237.910004   \n",
       "2017-04-26  67.620003  238.350006  36.117500  68.080002  238.509995   \n",
       "2017-04-27  67.580002  237.979996  35.980000  68.150002  238.770004   \n",
       "2017-04-28  67.690002  237.929993  36.022499  68.910004  238.899994   \n",
       "\n",
       "Price          Volume                       \n",
       "Ticker           AAPL      MSFT        SPY  \n",
       "Date                                        \n",
       "2017-01-03  115127600  20694100   91366500  \n",
       "2017-01-04   84472400  21340000   78744400  \n",
       "2017-01-05   88774400  24876000   78379000  \n",
       "2017-01-06  127007600  19922900   71559900  \n",
       "2017-01-09  134247600  20382700   46939700  \n",
       "...               ...       ...        ...  \n",
       "2017-04-24   68537200  29770000  119209900  \n",
       "2017-04-25   75486000  30242700   76698300  \n",
       "2017-04-26   80164800  26190800   84702500  \n",
       "2017-04-27   56985200  34971000   57410300  \n",
       "2017-04-28   83441600  39548800   63532800  \n",
       "\n",
       "[81 rows x 18 columns]"
      ]
     },
     "execution_count": 41,
     "metadata": {},
     "output_type": "execute_result"
    }
   ],
   "source": [
    "sample"
   ]
  },
  {
   "cell_type": "code",
   "execution_count": 42,
   "metadata": {},
   "outputs": [
    {
     "data": {
      "text/html": [
       "<div>\n",
       "<style scoped>\n",
       "    .dataframe tbody tr th:only-of-type {\n",
       "        vertical-align: middle;\n",
       "    }\n",
       "\n",
       "    .dataframe tbody tr th {\n",
       "        vertical-align: top;\n",
       "    }\n",
       "\n",
       "    .dataframe thead th {\n",
       "        text-align: right;\n",
       "    }\n",
       "</style>\n",
       "<table border=\"1\" class=\"dataframe\">\n",
       "  <thead>\n",
       "    <tr style=\"text-align: right;\">\n",
       "      <th>Ticker</th>\n",
       "      <th>AAPL</th>\n",
       "      <th>MSFT</th>\n",
       "      <th>SPY</th>\n",
       "    </tr>\n",
       "    <tr>\n",
       "      <th>Date</th>\n",
       "      <th></th>\n",
       "      <th></th>\n",
       "      <th></th>\n",
       "    </tr>\n",
       "  </thead>\n",
       "  <tbody>\n",
       "    <tr>\n",
       "      <th>2017-01-03</th>\n",
       "      <td>26.952715</td>\n",
       "      <td>56.930584</td>\n",
       "      <td>198.560028</td>\n",
       "    </tr>\n",
       "    <tr>\n",
       "      <th>2017-01-04</th>\n",
       "      <td>26.922543</td>\n",
       "      <td>56.675854</td>\n",
       "      <td>199.741287</td>\n",
       "    </tr>\n",
       "    <tr>\n",
       "      <th>2017-01-05</th>\n",
       "      <td>27.059458</td>\n",
       "      <td>56.675854</td>\n",
       "      <td>199.582626</td>\n",
       "    </tr>\n",
       "    <tr>\n",
       "      <th>2017-01-06</th>\n",
       "      <td>27.361120</td>\n",
       "      <td>57.167107</td>\n",
       "      <td>200.296692</td>\n",
       "    </tr>\n",
       "    <tr>\n",
       "      <th>2017-01-09</th>\n",
       "      <td>27.611736</td>\n",
       "      <td>56.985157</td>\n",
       "      <td>199.635529</td>\n",
       "    </tr>\n",
       "    <tr>\n",
       "      <th>...</th>\n",
       "      <td>...</td>\n",
       "      <td>...</td>\n",
       "      <td>...</td>\n",
       "    </tr>\n",
       "    <tr>\n",
       "      <th>2017-04-24</th>\n",
       "      <td>33.476295</td>\n",
       "      <td>61.806141</td>\n",
       "      <td>209.986511</td>\n",
       "    </tr>\n",
       "    <tr>\n",
       "      <th>2017-04-25</th>\n",
       "      <td>33.683720</td>\n",
       "      <td>62.163094</td>\n",
       "      <td>211.208313</td>\n",
       "    </tr>\n",
       "    <tr>\n",
       "      <th>2017-04-26</th>\n",
       "      <td>33.485615</td>\n",
       "      <td>62.080711</td>\n",
       "      <td>211.075516</td>\n",
       "    </tr>\n",
       "    <tr>\n",
       "      <th>2017-04-27</th>\n",
       "      <td>33.511253</td>\n",
       "      <td>62.483433</td>\n",
       "      <td>211.252609</td>\n",
       "    </tr>\n",
       "    <tr>\n",
       "      <th>2017-04-28</th>\n",
       "      <td>33.478622</td>\n",
       "      <td>62.657310</td>\n",
       "      <td>210.792191</td>\n",
       "    </tr>\n",
       "  </tbody>\n",
       "</table>\n",
       "<p>81 rows × 3 columns</p>\n",
       "</div>"
      ],
      "text/plain": [
       "Ticker           AAPL       MSFT         SPY\n",
       "Date                                        \n",
       "2017-01-03  26.952715  56.930584  198.560028\n",
       "2017-01-04  26.922543  56.675854  199.741287\n",
       "2017-01-05  27.059458  56.675854  199.582626\n",
       "2017-01-06  27.361120  57.167107  200.296692\n",
       "2017-01-09  27.611736  56.985157  199.635529\n",
       "...               ...        ...         ...\n",
       "2017-04-24  33.476295  61.806141  209.986511\n",
       "2017-04-25  33.683720  62.163094  211.208313\n",
       "2017-04-26  33.485615  62.080711  211.075516\n",
       "2017-04-27  33.511253  62.483433  211.252609\n",
       "2017-04-28  33.478622  62.657310  210.792191\n",
       "\n",
       "[81 rows x 3 columns]"
      ]
     },
     "execution_count": 42,
     "metadata": {},
     "output_type": "execute_result"
    }
   ],
   "source": [
    "sample['Adj Close']"
   ]
  },
  {
   "cell_type": "code",
   "execution_count": 43,
   "metadata": {},
   "outputs": [],
   "source": [
    "tickers = [\n",
    "    'AAPL','ABBV','ABT','ACN','ADP','ADSK','AES','AET','AFL','AMAT','AMGN','AMZN','APA',\n",
    "    'APHA','APD','APTV','ARE','ASML','ATVI','AXP','BA','BAC','BAX','BDX','BIIB','BK',\n",
    "    'BKNG','BMY','BRKB','BRK.A','COG','COST','CPB','CRM','CSCO','CVS','DAL','DD','DHR',\n",
    "    'DIS','DOW','DUK','EMR','EPD','EQT','ESRT','EXPD','FFIV','FLS','FLT','FRT','GE',\n",
    "    'GILD','GOOGL','GOOG','GS','HAL','HD','HON','IBM','INTC','IP','JNJ','JPM','KEY',\n",
    "    'KHC','KIM','KO','LLY','LMT','LOW','MCD','MCHP','MDT','MMM','MO','MRK','MSFT',\n",
    "    'MTD','NEE','NFLX','NKE','NOV','ORCL','OXY','PEP','PFE','PG','RTN','RTX','SBUX',\n",
    "    'SHW','SLB','SO','SPG','STT','T','TGT','TXN','UNH','UPS','USB','UTX','V','VZ',\n",
    "    'WMT','XOM',\n",
    "]"
   ]
  },
  {
   "cell_type": "code",
   "execution_count": 44,
   "metadata": {},
   "outputs": [
    {
     "data": {
      "text/plain": [
       "'AAPL ABBV ABT ACN ADP ADSK AES AET AFL AMAT AMGN AMZN APA APHA APD APTV ARE ASML ATVI AXP BA BAC BAX BDX BIIB BK BKNG BMY BRKB BRK.A COG COST CPB CRM CSCO CVS DAL DD DHR DIS DOW DUK EMR EPD EQT ESRT EXPD FFIV FLS FLT FRT GE GILD GOOGL GOOG GS HAL HD HON IBM INTC IP JNJ JPM KEY KHC KIM KO LLY LMT LOW MCD MCHP MDT MMM MO MRK MSFT MTD NEE NFLX NKE NOV ORCL OXY PEP PFE PG RTN RTX SBUX SHW SLB SO SPG STT T TGT TXN UNH UPS USB UTX V VZ WMT XOM'"
      ]
     },
     "execution_count": 44,
     "metadata": {},
     "output_type": "execute_result"
    }
   ],
   "source": [
    "\" \".join(tickers)"
   ]
  },
  {
   "cell_type": "code",
   "execution_count": 45,
   "metadata": {},
   "outputs": [
    {
     "name": "stderr",
     "output_type": "stream",
     "text": [
      "\r",
      "[                       0%%                      ]"
     ]
    },
    {
     "name": "stderr",
     "output_type": "stream",
     "text": [
      "\r",
      "[*                      2%%                      ]  2 of 107 completed"
     ]
    },
    {
     "name": "stderr",
     "output_type": "stream",
     "text": [
      "\r",
      "[*                      3%%                      ]  3 of 107 completed"
     ]
    },
    {
     "name": "stderr",
     "output_type": "stream",
     "text": [
      "\r",
      "[**                     4%%                      ]  4 of 107 completed"
     ]
    },
    {
     "name": "stderr",
     "output_type": "stream",
     "text": [
      "\r",
      "[**                     5%%                      ]  5 of 107 completed"
     ]
    },
    {
     "name": "stderr",
     "output_type": "stream",
     "text": [
      "\r",
      "[**                     5%%                      ]  5 of 107 completed"
     ]
    },
    {
     "name": "stderr",
     "output_type": "stream",
     "text": [
      "\r",
      "[***                    7%%                      ]  7 of 107 completed"
     ]
    },
    {
     "name": "stderr",
     "output_type": "stream",
     "text": [
      "\r",
      "[***                    7%%                      ]  8 of 107 completed"
     ]
    },
    {
     "name": "stderr",
     "output_type": "stream",
     "text": [
      "\r",
      "[****                   8%%                      ]  9 of 107 completed"
     ]
    },
    {
     "name": "stderr",
     "output_type": "stream",
     "text": [
      "\r",
      "[****                   9%%                      ]  10 of 107 completed"
     ]
    },
    {
     "name": "stderr",
     "output_type": "stream",
     "text": [
      "\r",
      "[*****                 10%%                      ]  11 of 107 completed"
     ]
    },
    {
     "name": "stderr",
     "output_type": "stream",
     "text": [
      "\r",
      "[*****                 11%%                      ]  12 of 107 completed"
     ]
    },
    {
     "name": "stderr",
     "output_type": "stream",
     "text": [
      "\r",
      "[******                12%%                      ]  13 of 107 completed"
     ]
    },
    {
     "name": "stderr",
     "output_type": "stream",
     "text": [
      "\r",
      "[******                13%%                      ]  14 of 107 completed"
     ]
    },
    {
     "name": "stderr",
     "output_type": "stream",
     "text": [
      "\r",
      "[*******               14%%                      ]  15 of 107 completed"
     ]
    },
    {
     "name": "stderr",
     "output_type": "stream",
     "text": [
      "\r",
      "[*******               15%%                      ]  16 of 107 completed"
     ]
    },
    {
     "name": "stderr",
     "output_type": "stream",
     "text": [
      "\r",
      "[********              16%%                      ]  17 of 107 completed"
     ]
    },
    {
     "name": "stderr",
     "output_type": "stream",
     "text": [
      "\r",
      "[********              17%%                      ]  18 of 107 completed"
     ]
    },
    {
     "name": "stderr",
     "output_type": "stream",
     "text": [
      "\r",
      "[*********             18%%                      ]  19 of 107 completed"
     ]
    },
    {
     "name": "stderr",
     "output_type": "stream",
     "text": [
      "\r",
      "[*********             19%%                      ]  20 of 107 completed"
     ]
    },
    {
     "name": "stderr",
     "output_type": "stream",
     "text": [
      "\r",
      "[**********            20%%                      ]  21 of 107 completed"
     ]
    },
    {
     "name": "stderr",
     "output_type": "stream",
     "text": [
      "\r",
      "[**********            21%%                      ]  22 of 107 completed"
     ]
    },
    {
     "name": "stderr",
     "output_type": "stream",
     "text": [
      "\r",
      "[**********            21%%                      ]  23 of 107 completed"
     ]
    },
    {
     "name": "stderr",
     "output_type": "stream",
     "text": [
      "\r",
      "[***********           22%%                      ]  24 of 107 completed"
     ]
    },
    {
     "name": "stderr",
     "output_type": "stream",
     "text": [
      "\r",
      "[***********           23%%                      ]  25 of 107 completed"
     ]
    },
    {
     "name": "stderr",
     "output_type": "stream",
     "text": [
      "\r",
      "[************          24%%                      ]  26 of 107 completed"
     ]
    },
    {
     "name": "stderr",
     "output_type": "stream",
     "text": [
      "\r",
      "[************          25%%                      ]  27 of 107 completed"
     ]
    },
    {
     "name": "stderr",
     "output_type": "stream",
     "text": [
      "\r",
      "[************          26%%                      ]  28 of 107 completed"
     ]
    },
    {
     "name": "stderr",
     "output_type": "stream",
     "text": [
      "\r",
      "[*************         27%%                      ]  29 of 107 completed"
     ]
    },
    {
     "name": "stderr",
     "output_type": "stream",
     "text": [
      "\r",
      "[*************         28%%                      ]  30 of 107 completed"
     ]
    },
    {
     "name": "stderr",
     "output_type": "stream",
     "text": [
      "\r",
      "[**************        29%%                      ]  31 of 107 completed"
     ]
    },
    {
     "name": "stderr",
     "output_type": "stream",
     "text": [
      "\r",
      "[**************        30%%                      ]  32 of 107 completed"
     ]
    },
    {
     "name": "stderr",
     "output_type": "stream",
     "text": [
      "\r",
      "[***************       31%%                      ]  33 of 107 completed\r",
      "[***************       31%%                      ]  33 of 107 completed"
     ]
    },
    {
     "name": "stderr",
     "output_type": "stream",
     "text": [
      "\r",
      "[****************      33%%                      ]  35 of 107 completed"
     ]
    },
    {
     "name": "stderr",
     "output_type": "stream",
     "text": [
      "\r",
      "[****************      34%%                      ]  36 of 107 completed"
     ]
    },
    {
     "name": "stderr",
     "output_type": "stream",
     "text": [
      "\r",
      "[*****************     35%%                      ]  37 of 107 completed"
     ]
    },
    {
     "name": "stderr",
     "output_type": "stream",
     "text": [
      "\r",
      "[*****************     36%%                      ]  38 of 107 completed"
     ]
    },
    {
     "name": "stderr",
     "output_type": "stream",
     "text": [
      "\r",
      "[*****************     36%%                      ]  39 of 107 completed"
     ]
    },
    {
     "name": "stderr",
     "output_type": "stream",
     "text": [
      "\r",
      "[******************    37%%                      ]  40 of 107 completed"
     ]
    },
    {
     "name": "stderr",
     "output_type": "stream",
     "text": [
      "\r",
      "[******************    38%%                      ]  41 of 107 completed"
     ]
    },
    {
     "name": "stderr",
     "output_type": "stream",
     "text": [
      "\r",
      "[*******************   39%%                      ]  42 of 107 completed"
     ]
    },
    {
     "name": "stderr",
     "output_type": "stream",
     "text": [
      "\r",
      "[*******************   40%%                      ]  43 of 107 completed"
     ]
    },
    {
     "name": "stderr",
     "output_type": "stream",
     "text": [
      "\r",
      "[********************  41%%                      ]  44 of 107 completed"
     ]
    },
    {
     "name": "stderr",
     "output_type": "stream",
     "text": [
      "\r",
      "[********************  42%%                      ]  45 of 107 completed"
     ]
    },
    {
     "name": "stderr",
     "output_type": "stream",
     "text": [
      "\r",
      "[********************* 43%%                      ]  46 of 107 completed"
     ]
    },
    {
     "name": "stderr",
     "output_type": "stream",
     "text": [
      "\r",
      "[********************* 44%%                      ]  47 of 107 completed"
     ]
    },
    {
     "name": "stderr",
     "output_type": "stream",
     "text": [
      "\r",
      "[**********************45%%                      ]  48 of 107 completed"
     ]
    },
    {
     "name": "stderr",
     "output_type": "stream",
     "text": [
      "\r",
      "[**********************46%%                      ]  49 of 107 completed"
     ]
    },
    {
     "name": "stderr",
     "output_type": "stream",
     "text": [
      "\r",
      "[**********************47%%                      ]  50 of 107 completed"
     ]
    },
    {
     "name": "stderr",
     "output_type": "stream",
     "text": [
      "\r",
      "[**********************48%%                      ]  51 of 107 completed"
     ]
    },
    {
     "name": "stderr",
     "output_type": "stream",
     "text": [
      "\r",
      "[**********************49%%                      ]  52 of 107 completed"
     ]
    },
    {
     "name": "stderr",
     "output_type": "stream",
     "text": [
      "\r",
      "[**********************50%%                      ]  53 of 107 completed"
     ]
    },
    {
     "name": "stderr",
     "output_type": "stream",
     "text": [
      "\r",
      "[**********************50%%                      ]  54 of 107 completed"
     ]
    },
    {
     "name": "stderr",
     "output_type": "stream",
     "text": [
      "\r",
      "[**********************51%%                      ]  55 of 107 completed"
     ]
    },
    {
     "name": "stderr",
     "output_type": "stream",
     "text": [
      "\r",
      "[**********************52%%                      ]  56 of 107 completed\r",
      "[**********************52%%                      ]  56 of 107 completed"
     ]
    },
    {
     "name": "stderr",
     "output_type": "stream",
     "text": [
      "\r",
      "[**********************54%%                      ]  58 of 107 completed"
     ]
    },
    {
     "name": "stderr",
     "output_type": "stream",
     "text": [
      "\r",
      "[**********************55%%                      ]  59 of 107 completed"
     ]
    },
    {
     "name": "stderr",
     "output_type": "stream",
     "text": [
      "\r",
      "[**********************56%%*                     ]  60 of 107 completed"
     ]
    },
    {
     "name": "stderr",
     "output_type": "stream",
     "text": [
      "\r",
      "[**********************57%%*                     ]  61 of 107 completed"
     ]
    },
    {
     "name": "stderr",
     "output_type": "stream",
     "text": [
      "\r",
      "[**********************58%%**                    ]  62 of 107 completed"
     ]
    },
    {
     "name": "stderr",
     "output_type": "stream",
     "text": [
      "\r",
      "[**********************59%%**                    ]  63 of 107 completed"
     ]
    },
    {
     "name": "stderr",
     "output_type": "stream",
     "text": [
      "\r",
      "[**********************60%%***                   ]  64 of 107 completed"
     ]
    },
    {
     "name": "stderr",
     "output_type": "stream",
     "text": [
      "\r",
      "[**********************61%%***                   ]  65 of 107 completed"
     ]
    },
    {
     "name": "stderr",
     "output_type": "stream",
     "text": [
      "\r",
      "[**********************62%%****                  ]  66 of 107 completed"
     ]
    },
    {
     "name": "stderr",
     "output_type": "stream",
     "text": [
      "\r",
      "[**********************63%%****                  ]  67 of 107 completed"
     ]
    },
    {
     "name": "stderr",
     "output_type": "stream",
     "text": [
      "\r",
      "[**********************64%%*****                 ]  68 of 107 completed"
     ]
    },
    {
     "name": "stderr",
     "output_type": "stream",
     "text": [
      "\r",
      "[**********************64%%*****                 ]  68 of 107 completed"
     ]
    },
    {
     "name": "stderr",
     "output_type": "stream",
     "text": [
      "\r",
      "[**********************65%%*****                 ]  70 of 107 completed"
     ]
    },
    {
     "name": "stderr",
     "output_type": "stream",
     "text": [
      "\r",
      "[**********************66%%******                ]  71 of 107 completed"
     ]
    },
    {
     "name": "stderr",
     "output_type": "stream",
     "text": [
      "\r",
      "[**********************67%%******                ]  72 of 107 completed"
     ]
    },
    {
     "name": "stderr",
     "output_type": "stream",
     "text": [
      "\r",
      "[**********************68%%*******               ]  73 of 107 completed"
     ]
    },
    {
     "name": "stderr",
     "output_type": "stream",
     "text": [
      "\r",
      "[**********************69%%*******               ]  74 of 107 completed"
     ]
    },
    {
     "name": "stderr",
     "output_type": "stream",
     "text": [
      "\r",
      "[**********************70%%********              ]  75 of 107 completed"
     ]
    },
    {
     "name": "stderr",
     "output_type": "stream",
     "text": [
      "\r",
      "[**********************71%%********              ]  76 of 107 completed"
     ]
    },
    {
     "name": "stderr",
     "output_type": "stream",
     "text": [
      "\r",
      "[**********************72%%*********             ]  77 of 107 completed"
     ]
    },
    {
     "name": "stderr",
     "output_type": "stream",
     "text": [
      "\r",
      "[**********************73%%*********             ]  78 of 107 completed"
     ]
    },
    {
     "name": "stderr",
     "output_type": "stream",
     "text": [
      "\r",
      "[**********************74%%**********            ]  79 of 107 completed"
     ]
    },
    {
     "name": "stderr",
     "output_type": "stream",
     "text": [
      "\r",
      "[**********************75%%**********            ]  80 of 107 completed"
     ]
    },
    {
     "name": "stderr",
     "output_type": "stream",
     "text": [
      "\r",
      "[**********************76%%**********            ]  81 of 107 completed"
     ]
    },
    {
     "name": "stderr",
     "output_type": "stream",
     "text": [
      "\r",
      "[**********************77%%***********           ]  82 of 107 completed"
     ]
    },
    {
     "name": "stderr",
     "output_type": "stream",
     "text": [
      "\r",
      "[**********************78%%***********           ]  83 of 107 completed"
     ]
    },
    {
     "name": "stderr",
     "output_type": "stream",
     "text": [
      "\r",
      "[**********************79%%************          ]  84 of 107 completed"
     ]
    },
    {
     "name": "stderr",
     "output_type": "stream",
     "text": [
      "\r",
      "[**********************79%%************          ]  85 of 107 completed"
     ]
    },
    {
     "name": "stderr",
     "output_type": "stream",
     "text": [
      "\r",
      "[**********************80%%************          ]  86 of 107 completed"
     ]
    },
    {
     "name": "stderr",
     "output_type": "stream",
     "text": [
      "\r",
      "[**********************81%%*************         ]  87 of 107 completed\r",
      "[**********************81%%*************         ]  87 of 107 completed"
     ]
    },
    {
     "name": "stderr",
     "output_type": "stream",
     "text": [
      "\r",
      "[**********************83%%**************        ]  89 of 107 completed"
     ]
    },
    {
     "name": "stderr",
     "output_type": "stream",
     "text": [
      "\r",
      "[**********************84%%**************        ]  90 of 107 completed"
     ]
    },
    {
     "name": "stderr",
     "output_type": "stream",
     "text": [
      "\r",
      "[**********************85%%***************       ]  91 of 107 completed"
     ]
    },
    {
     "name": "stderr",
     "output_type": "stream",
     "text": [
      "\r",
      "[**********************86%%***************       ]  92 of 107 completed"
     ]
    },
    {
     "name": "stderr",
     "output_type": "stream",
     "text": [
      "\r",
      "[**********************87%%****************      ]  93 of 107 completed"
     ]
    },
    {
     "name": "stderr",
     "output_type": "stream",
     "text": [
      "\r",
      "[**********************88%%****************      ]  94 of 107 completed"
     ]
    },
    {
     "name": "stderr",
     "output_type": "stream",
     "text": [
      "\r",
      "[**********************89%%*****************     ]  95 of 107 completed"
     ]
    },
    {
     "name": "stderr",
     "output_type": "stream",
     "text": [
      "\r",
      "[**********************90%%*****************     ]  96 of 107 completed"
     ]
    },
    {
     "name": "stderr",
     "output_type": "stream",
     "text": [
      "\r",
      "[**********************91%%******************    ]  97 of 107 completed"
     ]
    },
    {
     "name": "stderr",
     "output_type": "stream",
     "text": [
      "\r",
      "[**********************92%%******************    ]  98 of 107 completed"
     ]
    },
    {
     "name": "stderr",
     "output_type": "stream",
     "text": [
      "\r",
      "[**********************93%%*******************   ]  99 of 107 completed"
     ]
    },
    {
     "name": "stderr",
     "output_type": "stream",
     "text": [
      "\r",
      "[**********************93%%*******************   ]  100 of 107 completed"
     ]
    },
    {
     "name": "stderr",
     "output_type": "stream",
     "text": [
      "\r",
      "[**********************94%%*******************   ]  101 of 107 completed"
     ]
    },
    {
     "name": "stderr",
     "output_type": "stream",
     "text": [
      "\r",
      "[**********************95%%********************  ]  102 of 107 completed"
     ]
    },
    {
     "name": "stderr",
     "output_type": "stream",
     "text": [
      "\r",
      "[**********************96%%********************  ]  103 of 107 completed"
     ]
    },
    {
     "name": "stderr",
     "output_type": "stream",
     "text": [
      "\r",
      "[**********************97%%********************* ]  104 of 107 completed"
     ]
    },
    {
     "name": "stderr",
     "output_type": "stream",
     "text": [
      "\r",
      "[**********************98%%********************* ]  105 of 107 completed"
     ]
    },
    {
     "name": "stderr",
     "output_type": "stream",
     "text": [
      "\r",
      "[**********************99%%**********************]  106 of 107 completed"
     ]
    },
    {
     "name": "stderr",
     "output_type": "stream",
     "text": [
      "\r",
      "[*********************100%%**********************]  107 of 107 completed"
     ]
    },
    {
     "name": "stderr",
     "output_type": "stream",
     "text": [
      "\n",
      "\n",
      "8 Failed downloads:\n"
     ]
    },
    {
     "name": "stderr",
     "output_type": "stream",
     "text": [
      "['FLT', 'ATVI', 'COG', 'BRKB', 'APHA', 'RTN', 'UTX', 'BRK.A']: YFTzMissingError('$%ticker%: possibly delisted; No timezone found')\n"
     ]
    }
   ],
   "source": [
    "data = yf.download(\" \".join(tickers), start=\"1980-01-01\", end=\"2023-08-01\")"
   ]
  },
  {
   "cell_type": "code",
   "execution_count": 46,
   "metadata": {},
   "outputs": [
    {
     "data": {
      "text/plain": [
       "<Axes: xlabel='Date'>"
      ]
     },
     "execution_count": 46,
     "metadata": {},
     "output_type": "execute_result"
    },
    {
     "data": {
      "image/png": "[encoded data removed]",
      "text/plain": [
       "<Figure size 640x480 with 1 Axes>"
      ]
     },
     "metadata": {},
     "output_type": "display_data"
    }
   ],
   "source": [
    "data['Adj Close']['AAPL'].plot()"
   ]
  },
  {
   "cell_type": "code",
   "execution_count": 47,
   "metadata": {},
   "outputs": [],
   "source": [
    "cols_with_many_nas = [\n",
    "    \"BRK.A\",\n",
    "    \"APHA\",\n",
    "    \"UTX\",\n",
    "    \"RTN\",\n",
    "    \"COG\",\n",
    "    \"BRKB\",\n",
    "    \"ATVI\",\n",
    "    \"FLT\",\n",
    "    \"DOW\",\n",
    "    \"KHC\",\n",
    "    \"V\",\n",
    "    \"APTV\",\n",
    "    \"ABBV\",\n",
    "    \"ESRT\",\n",
    "]\n",
    "df = data['Adj Close']\n",
    "df = df.drop(columns=cols_with_many_nas).dropna().pct_change().dropna()\n"
   ]
  },
  {
   "cell_type": "code",
   "execution_count": 48,
   "metadata": {},
   "outputs": [
    {
     "data": {
      "text/plain": [
       "<Axes: xlabel='Date'>"
      ]
     },
     "execution_count": 48,
     "metadata": {},
     "output_type": "execute_result"
    },
    {
     "data": {
      "image/png": "[encoded data removed]",
      "text/plain": [
       "<Figure size 640x480 with 1 Axes>"
      ]
     },
     "metadata": {},
     "output_type": "display_data"
    }
   ],
   "source": [
    "df['AAPL'].plot()"
   ]
  },
  {
   "cell_type": "code",
   "execution_count": 49,
   "metadata": {},
   "outputs": [],
   "source": [
    "pc1, loadings = pca(df, module='scikitlearn')"
   ]
  },
  {
   "cell_type": "code",
   "execution_count": 50,
   "metadata": {},
   "outputs": [
    {
     "data": {
      "text/plain": [
       "<Axes: xlabel='Date'>"
      ]
     },
     "execution_count": 50,
     "metadata": {},
     "output_type": "execute_result"
    },
    {
     "data": {
      "image/png": "[encoded data removed]",
      "text/plain": [
       "<Figure size 640x480 with 1 Axes>"
      ]
     },
     "metadata": {},
     "output_type": "display_data"
    }
   ],
   "source": [
    "pc1.plot()"
   ]
  },
  {
   "cell_type": "code",
   "execution_count": 51,
   "metadata": {},
   "outputs": [
    {
     "data": {
      "text/plain": [
       "<Axes: xlabel='Date'>"
      ]
     },
     "execution_count": 51,
     "metadata": {},
     "output_type": "execute_result"
    },
    {
     "data": {
      "image/png": "[encoded data removed]",
      "text/plain": [
       "<Figure size 640x480 with 1 Axes>"
      ]
     },
     "metadata": {},
     "output_type": "display_data"
    }
   ],
   "source": [
    "pc1.cumsum().plot()"
   ]
  },
  {
   "cell_type": "markdown",
   "metadata": {},
   "source": [
    " - Why does this plot only go back to 2019? What happened? \n",
    " - What are methods that we might use to deal with missing data?"
   ]
  }
 ],
 "metadata": {
  "language_info": {
   "name": "python"
  }
 },
 "nbformat": 4,
 "nbformat_minor": 2
}
